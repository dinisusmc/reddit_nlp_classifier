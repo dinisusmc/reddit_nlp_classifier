{
 "cells": [
  {
   "cell_type": "markdown",
   "id": "49a1ecca-4969-4c73-bfbd-d7b77d526562",
   "metadata": {},
   "source": [
    "# **Predictive Modelling Based on Sub Reddit Articles**"
   ]
  },
  {
   "cell_type": "code",
   "execution_count": 46,
   "id": "3a870b0d-5d2d-4326-91c3-35549f300ed1",
   "metadata": {},
   "outputs": [],
   "source": [
    "import matplotlib.pyplot as plt\n",
    "import pandas as pd\n",
    "import numpy as np\n",
    "import scipy.stats as stats\n",
    "import os\n",
    "import seaborn as sns \n",
    "import plotly\n",
    "import plotly.express as px\n",
    "import bs4\n",
    "import requests\n",
    "import nltk\n",
    "import json"
   ]
  },
  {
   "cell_type": "code",
   "execution_count": 47,
   "id": "1706901d-fc2a-49e6-a5b8-95d04bf30f04",
   "metadata": {},
   "outputs": [
    {
     "name": "stderr",
     "output_type": "stream",
     "text": [
      "[nltk_data] Downloading package punkt to /home/nick/nltk_data...\n",
      "[nltk_data]   Package punkt is already up-to-date!\n",
      "[nltk_data] Downloading package wordnet to /home/nick/nltk_data...\n",
      "[nltk_data]   Package wordnet is already up-to-date!\n"
     ]
    }
   ],
   "source": [
    "from sklearn.model_selection import train_test_split, GridSearchCV, cross_val_score\n",
    "from sklearn.linear_model import LinearRegression, Ridge, Lasso, LogisticRegression\n",
    "from sklearn.metrics import mean_squared_error, mean_absolute_error, r2_score\n",
    "from sklearn.preprocessing import OneHotEncoder, StandardScaler, PolynomialFeatures\n",
    "from sklearn.compose import make_column_transformer, make_column_selector\n",
    "from sklearn.neighbors import NearestNeighbors, KNeighborsClassifier, KNeighborsRegressor\n",
    "from sklearn.pipeline import make_pipeline\n",
    "from sklearn.impute import KNNImputer #fills missing values intelligently\n",
    "from sklearn.feature_extraction.text import CountVectorizer, TfidfVectorizer\n",
    "from sklearn.tree import DecisionTreeClassifier\n",
    "from sklearn.naive_bayes import MultinomialNB, BernoulliNB\n",
    "from sklearn.ensemble import BaggingClassifier, RandomForestClassifier, ExtraTreesClassifier, VotingClassifier, BaggingRegressor, RandomForestRegressor, AdaBoostRegressor, GradientBoostingRegressor\n",
    "from sklearn import set_config\n",
    "set_config(display='diagram')\n",
    "from sklearn import metrics; \n",
    "#usualmetrics - balanced_accuracy_score, accuracy_score, precision_score, classification_report, f1_score, confusion_matrix, roc_auc_score, recall_score, RocCurveDisplay, ConfusionMatrixDisplay\n",
    "\n",
    "nltk.download('punkt')\n",
    "nltk.download('wordnet')\n",
    "from nltk import word_tokenize\n",
    "from nltk.stem import WordNetLemmatizer, PorterStemmer\n",
    "from nltk.tokenize import sent_tokenize, word_tokenize, RegexpTokenizer\n",
    "from nltk.corpus import stopwords\n",
    "\n",
    "from imblearn.over_sampling import ADASYN, SMOTE\n",
    "\n",
    "from bs4 import BeautifulSoup"
   ]
  },
  {
   "cell_type": "markdown",
   "id": "fd585323-ef9c-44aa-acbb-bda4c486e41e",
   "metadata": {},
   "source": [
    "## A Jupyter -**Notebook with your analysis for a peer audience**- of data scientists.\n",
    "### Below I am utilizing push shift api to collect a little over 300 posts for both of my selected Sub Reddits r/keto & r/Vegan. After I have all of the Data in a single Data Frame I will vectorize the words and use them to fit multiple predictive models to predict which posts come fro  which Sub Reddit."
   ]
  },
  {
   "cell_type": "code",
   "execution_count": 48,
   "id": "2c4040cb-b68f-4ad6-8ade-3f0c7d99b0a1",
   "metadata": {},
   "outputs": [],
   "source": [
    "def get_pushshift_data(start, end, subreddit, filt=False):\n",
    "    url = 'https://api.pushshift.io/reddit/search/submission/'\n",
    "    \n",
    "    params = {'subreddit': subreddit,\n",
    "              'size': 500,\n",
    "              'after' : start,\n",
    "              'before' : end,\n",
    "              'filter' :['created_utc','subreddit', 'title', 'selftext', 'num_comments', 'score']}\n",
    "\n",
    "    res = requests.get(url, params)\n",
    "    data = res.json()\n",
    "    posts = data['data']\n",
    "    df = pd.DataFrame(posts)\n",
    "    if filt == True:\n",
    "        df = df[(df['selftext']!='[removed]')&(df['selftext']!='')&(df['selftext']!='[deleted]')]\n",
    "\n",
    "    return df"
   ]
  },
  {
   "cell_type": "code",
   "execution_count": 49,
   "id": "8f4e6b93-e7f4-4966-a49d-693ba31079a7",
   "metadata": {},
   "outputs": [],
   "source": [
    "keto2021 = get_pushshift_data('2021-01-01', '2021-10-16', 'keto', True)\n",
    "keto2020 = get_pushshift_data('2020-01-01', '2020-12-31', 'keto', True)\n",
    "keto2019 = get_pushshift_data('2019-01-01', '2019-12-31', 'keto', True)\n",
    "keto2018 = get_pushshift_data('2018-01-01', '2018-12-31', 'keto', True)\n",
    "keto2017 = get_pushshift_data('2017-01-01', '2017-12-31', 'keto', True)"
   ]
  },
  {
   "cell_type": "code",
   "execution_count": 50,
   "id": "6d630f58-13b4-4b49-95fd-8beea3073271",
   "metadata": {
    "tags": []
   },
   "outputs": [
    {
     "data": {
      "text/html": [
       "<div>\n",
       "<style scoped>\n",
       "    .dataframe tbody tr th:only-of-type {\n",
       "        vertical-align: middle;\n",
       "    }\n",
       "\n",
       "    .dataframe tbody tr th {\n",
       "        vertical-align: top;\n",
       "    }\n",
       "\n",
       "    .dataframe thead th {\n",
       "        text-align: right;\n",
       "    }\n",
       "</style>\n",
       "<table border=\"1\" class=\"dataframe\">\n",
       "  <thead>\n",
       "    <tr style=\"text-align: right;\">\n",
       "      <th></th>\n",
       "      <th>created_utc</th>\n",
       "      <th>num_comments</th>\n",
       "      <th>score</th>\n",
       "      <th>selftext</th>\n",
       "      <th>subreddit</th>\n",
       "      <th>title</th>\n",
       "    </tr>\n",
       "  </thead>\n",
       "  <tbody>\n",
       "    <tr>\n",
       "      <th>0</th>\n",
       "      <td>1609460100</td>\n",
       "      <td>9</td>\n",
       "      <td>1</td>\n",
       "      <td>40 year old caucasian male, 5'11\", 200lbs)\\n\\n...</td>\n",
       "      <td>keto</td>\n",
       "      <td>High Cholesterol AND HS-CRP</td>\n",
       "    </tr>\n",
       "    <tr>\n",
       "      <th>1</th>\n",
       "      <td>1609461227</td>\n",
       "      <td>14</td>\n",
       "      <td>1</td>\n",
       "      <td>I’m a 36 year old male, married, 3 kids and we...</td>\n",
       "      <td>keto</td>\n",
       "      <td>36 Male and BP too high</td>\n",
       "    </tr>\n",
       "    <tr>\n",
       "      <th>2</th>\n",
       "      <td>1609461881</td>\n",
       "      <td>7</td>\n",
       "      <td>1</td>\n",
       "      <td>I started in may of 2019 and today i weight 22...</td>\n",
       "      <td>keto</td>\n",
       "      <td>New year, new goals, lets kick it this year.</td>\n",
       "    </tr>\n",
       "    <tr>\n",
       "      <th>3</th>\n",
       "      <td>1609463903</td>\n",
       "      <td>131</td>\n",
       "      <td>1</td>\n",
       "      <td>I use greenbeans as pasta constantly and my li...</td>\n",
       "      <td>keto</td>\n",
       "      <td>Why is NOBODY talking about green beans?</td>\n",
       "    </tr>\n",
       "    <tr>\n",
       "      <th>4</th>\n",
       "      <td>1609466161</td>\n",
       "      <td>30</td>\n",
       "      <td>1</td>\n",
       "      <td>Been keto since Jy 2020: previous post here \\n...</td>\n",
       "      <td>keto</td>\n",
       "      <td>85lbs down. Thanks for your inspiration r/keto</td>\n",
       "    </tr>\n",
       "    <tr>\n",
       "      <th>...</th>\n",
       "      <td>...</td>\n",
       "      <td>...</td>\n",
       "      <td>...</td>\n",
       "      <td>...</td>\n",
       "      <td>...</td>\n",
       "      <td>...</td>\n",
       "    </tr>\n",
       "    <tr>\n",
       "      <th>367</th>\n",
       "      <td>1483310313</td>\n",
       "      <td>10</td>\n",
       "      <td>0</td>\n",
       "      <td>Hey /r/keto,\\n\\nI'm looking to drop from ~210 ...</td>\n",
       "      <td>keto</td>\n",
       "      <td>Looking for some feedback on a diet I want to ...</td>\n",
       "    </tr>\n",
       "    <tr>\n",
       "      <th>368</th>\n",
       "      <td>1483311139</td>\n",
       "      <td>6</td>\n",
       "      <td>10</td>\n",
       "      <td>https://i.reddituploads.com/5500764c310545f3a9...</td>\n",
       "      <td>keto</td>\n",
       "      <td>Keto New Year's Resolution (x-post from r/mild...</td>\n",
       "    </tr>\n",
       "    <tr>\n",
       "      <th>369</th>\n",
       "      <td>1483311432</td>\n",
       "      <td>12</td>\n",
       "      <td>1</td>\n",
       "      <td>Hello fellow keto reddit friends.  A few years...</td>\n",
       "      <td>keto</td>\n",
       "      <td>Increase muscle and lose body fat?</td>\n",
       "    </tr>\n",
       "    <tr>\n",
       "      <th>370</th>\n",
       "      <td>1483313733</td>\n",
       "      <td>6</td>\n",
       "      <td>0</td>\n",
       "      <td>I'm just about to start a ketogenic diet and I...</td>\n",
       "      <td>keto</td>\n",
       "      <td>Sodium and water intake</td>\n",
       "    </tr>\n",
       "    <tr>\n",
       "      <th>371</th>\n",
       "      <td>1483313765</td>\n",
       "      <td>216</td>\n",
       "      <td>1138</td>\n",
       "      <td>Whether you're a total noob or you've fallen o...</td>\n",
       "      <td>keto</td>\n",
       "      <td>Welcome to /r/keto. Here's everything you need...</td>\n",
       "    </tr>\n",
       "  </tbody>\n",
       "</table>\n",
       "<p>372 rows × 6 columns</p>\n",
       "</div>"
      ],
      "text/plain": [
       "     created_utc  num_comments  score  \\\n",
       "0     1609460100             9      1   \n",
       "1     1609461227            14      1   \n",
       "2     1609461881             7      1   \n",
       "3     1609463903           131      1   \n",
       "4     1609466161            30      1   \n",
       "..           ...           ...    ...   \n",
       "367   1483310313            10      0   \n",
       "368   1483311139             6     10   \n",
       "369   1483311432            12      1   \n",
       "370   1483313733             6      0   \n",
       "371   1483313765           216   1138   \n",
       "\n",
       "                                              selftext subreddit  \\\n",
       "0    40 year old caucasian male, 5'11\", 200lbs)\\n\\n...      keto   \n",
       "1    I’m a 36 year old male, married, 3 kids and we...      keto   \n",
       "2    I started in may of 2019 and today i weight 22...      keto   \n",
       "3    I use greenbeans as pasta constantly and my li...      keto   \n",
       "4    Been keto since Jy 2020: previous post here \\n...      keto   \n",
       "..                                                 ...       ...   \n",
       "367  Hey /r/keto,\\n\\nI'm looking to drop from ~210 ...      keto   \n",
       "368  https://i.reddituploads.com/5500764c310545f3a9...      keto   \n",
       "369  Hello fellow keto reddit friends.  A few years...      keto   \n",
       "370  I'm just about to start a ketogenic diet and I...      keto   \n",
       "371  Whether you're a total noob or you've fallen o...      keto   \n",
       "\n",
       "                                                 title  \n",
       "0                          High Cholesterol AND HS-CRP  \n",
       "1                              36 Male and BP too high  \n",
       "2         New year, new goals, lets kick it this year.  \n",
       "3             Why is NOBODY talking about green beans?  \n",
       "4       85lbs down. Thanks for your inspiration r/keto  \n",
       "..                                                 ...  \n",
       "367  Looking for some feedback on a diet I want to ...  \n",
       "368  Keto New Year's Resolution (x-post from r/mild...  \n",
       "369                 Increase muscle and lose body fat?  \n",
       "370                            Sodium and water intake  \n",
       "371  Welcome to /r/keto. Here's everything you need...  \n",
       "\n",
       "[372 rows x 6 columns]"
      ]
     },
     "execution_count": 50,
     "metadata": {},
     "output_type": "execute_result"
    }
   ],
   "source": [
    "ketodf = pd.concat([keto2021, keto2020, keto2019, keto2018, keto2017], axis=0).reset_index(drop=True)\n",
    "ketodf"
   ]
  },
  {
   "cell_type": "code",
   "execution_count": 51,
   "id": "55a0c72b-442d-46cd-943b-05f4d1f09d3c",
   "metadata": {},
   "outputs": [],
   "source": [
    "import time\n",
    "time.sleep(2)"
   ]
  },
  {
   "cell_type": "markdown",
   "id": "dcd913bb-0fed-4207-82c4-6ab254751a9c",
   "metadata": {},
   "source": [
    "## **Must run twice**"
   ]
  },
  {
   "cell_type": "code",
   "execution_count": 52,
   "id": "15598e4f-d94d-447c-a735-b6bf6460b419",
   "metadata": {
    "tags": []
   },
   "outputs": [],
   "source": [
    "vegan2021 = get_pushshift_data('2021-01-01', '2021-10-16', 'Vegan', True)\n",
    "vegan2020 = get_pushshift_data('2020-01-01', '2020-12-31', 'Vegan', True)\n",
    "vegan2019 = get_pushshift_data('2019-01-01', '2019-12-31', 'Vegan', True)\n",
    "vegan2018 = get_pushshift_data('2018-01-01', '2018-12-31', 'Vegan', True)\n"
   ]
  },
  {
   "cell_type": "code",
   "execution_count": 53,
   "id": "a2a8e233-6bdc-4110-b0db-ef62feb0dd24",
   "metadata": {},
   "outputs": [],
   "source": [
    "time.sleep(2)"
   ]
  },
  {
   "cell_type": "code",
   "execution_count": 54,
   "id": "c26f30cf-437f-4a33-bc92-9202e4389c1d",
   "metadata": {},
   "outputs": [],
   "source": [
    "vegan2017 = get_pushshift_data('2017-01-01', '2017-12-31', 'Vegan', True)\n",
    "vegan2016 = get_pushshift_data('2016-01-01', '2016-12-31', 'Vegan', True)\n",
    "vegan2015 = get_pushshift_data('2015-01-01', '2015-12-31', 'Vegan', True)\n",
    "vegan2014 = get_pushshift_data('2014-01-01', '2014-12-31', 'Vegan', True)"
   ]
  },
  {
   "cell_type": "code",
   "execution_count": 55,
   "id": "685db2b4-9fa1-4af6-a45c-92c68ab1fe4d",
   "metadata": {
    "tags": []
   },
   "outputs": [
    {
     "data": {
      "text/html": [
       "<div>\n",
       "<style scoped>\n",
       "    .dataframe tbody tr th:only-of-type {\n",
       "        vertical-align: middle;\n",
       "    }\n",
       "\n",
       "    .dataframe tbody tr th {\n",
       "        vertical-align: top;\n",
       "    }\n",
       "\n",
       "    .dataframe thead th {\n",
       "        text-align: right;\n",
       "    }\n",
       "</style>\n",
       "<table border=\"1\" class=\"dataframe\">\n",
       "  <thead>\n",
       "    <tr style=\"text-align: right;\">\n",
       "      <th></th>\n",
       "      <th>created_utc</th>\n",
       "      <th>num_comments</th>\n",
       "      <th>score</th>\n",
       "      <th>selftext</th>\n",
       "      <th>subreddit</th>\n",
       "      <th>title</th>\n",
       "    </tr>\n",
       "  </thead>\n",
       "  <tbody>\n",
       "    <tr>\n",
       "      <th>0</th>\n",
       "      <td>1609460201</td>\n",
       "      <td>2</td>\n",
       "      <td>1</td>\n",
       "      <td>So I am sure this year has been incredibly pai...</td>\n",
       "      <td>vegan</td>\n",
       "      <td>What a year this has been.</td>\n",
       "    </tr>\n",
       "    <tr>\n",
       "      <th>1</th>\n",
       "      <td>1609462282</td>\n",
       "      <td>32</td>\n",
       "      <td>1</td>\n",
       "      <td>Unfortunately, since I had to move back in w/ ...</td>\n",
       "      <td>vegan</td>\n",
       "      <td>So, starting my vegan lifestyle tomorrow. Just...</td>\n",
       "    </tr>\n",
       "    <tr>\n",
       "      <th>2</th>\n",
       "      <td>1609462943</td>\n",
       "      <td>8</td>\n",
       "      <td>1</td>\n",
       "      <td>I am really into this cute vegan girl. She's s...</td>\n",
       "      <td>vegan</td>\n",
       "      <td>There's this cute vegan girl I like</td>\n",
       "    </tr>\n",
       "    <tr>\n",
       "      <th>3</th>\n",
       "      <td>1609464059</td>\n",
       "      <td>28</td>\n",
       "      <td>1</td>\n",
       "      <td>If you don't upvote it then you're not a vegan</td>\n",
       "      <td>vegan</td>\n",
       "      <td>Upvote this post if you're vegan</td>\n",
       "    </tr>\n",
       "    <tr>\n",
       "      <th>4</th>\n",
       "      <td>1609464994</td>\n",
       "      <td>5</td>\n",
       "      <td>1</td>\n",
       "      <td>I don’t touch animal products much in my diet,...</td>\n",
       "      <td>vegan</td>\n",
       "      <td>2021 is my year!</td>\n",
       "    </tr>\n",
       "    <tr>\n",
       "      <th>...</th>\n",
       "      <td>...</td>\n",
       "      <td>...</td>\n",
       "      <td>...</td>\n",
       "      <td>...</td>\n",
       "      <td>...</td>\n",
       "      <td>...</td>\n",
       "    </tr>\n",
       "    <tr>\n",
       "      <th>328</th>\n",
       "      <td>1389035068</td>\n",
       "      <td>18</td>\n",
       "      <td>60</td>\n",
       "      <td>Last year I was a cashier at a gas station. I ...</td>\n",
       "      <td>vegan</td>\n",
       "      <td>Open Letter to a Former Customer: Thank You!</td>\n",
       "    </tr>\n",
       "    <tr>\n",
       "      <th>329</th>\n",
       "      <td>1389040996</td>\n",
       "      <td>34</td>\n",
       "      <td>6</td>\n",
       "      <td>So.. I've only been vegan for a few weeks and ...</td>\n",
       "      <td>vegan</td>\n",
       "      <td>Drunk Vegan Problems</td>\n",
       "    </tr>\n",
       "    <tr>\n",
       "      <th>330</th>\n",
       "      <td>1389053502</td>\n",
       "      <td>79</td>\n",
       "      <td>11</td>\n",
       "      <td>Father, Entrepreneur, Playful \\n*Edit - Love t...</td>\n",
       "      <td>vegan</td>\n",
       "      <td>Let's see who we are. Beside vegan, describe y...</td>\n",
       "    </tr>\n",
       "    <tr>\n",
       "      <th>331</th>\n",
       "      <td>1389063698</td>\n",
       "      <td>15</td>\n",
       "      <td>2</td>\n",
       "      <td>So first, I tried making a white bean soup, th...</td>\n",
       "      <td>vegan</td>\n",
       "      <td>My homemade soups suck... help me.</td>\n",
       "    </tr>\n",
       "    <tr>\n",
       "      <th>332</th>\n",
       "      <td>1389066251</td>\n",
       "      <td>18</td>\n",
       "      <td>0</td>\n",
       "      <td>Heya!  I'm new to the community.  I was just w...</td>\n",
       "      <td>vegan</td>\n",
       "      <td>Do you live with pets or animals? What do they...</td>\n",
       "    </tr>\n",
       "  </tbody>\n",
       "</table>\n",
       "<p>333 rows × 6 columns</p>\n",
       "</div>"
      ],
      "text/plain": [
       "     created_utc  num_comments  score  \\\n",
       "0     1609460201             2      1   \n",
       "1     1609462282            32      1   \n",
       "2     1609462943             8      1   \n",
       "3     1609464059            28      1   \n",
       "4     1609464994             5      1   \n",
       "..           ...           ...    ...   \n",
       "328   1389035068            18     60   \n",
       "329   1389040996            34      6   \n",
       "330   1389053502            79     11   \n",
       "331   1389063698            15      2   \n",
       "332   1389066251            18      0   \n",
       "\n",
       "                                              selftext subreddit  \\\n",
       "0    So I am sure this year has been incredibly pai...     vegan   \n",
       "1    Unfortunately, since I had to move back in w/ ...     vegan   \n",
       "2    I am really into this cute vegan girl. She's s...     vegan   \n",
       "3       If you don't upvote it then you're not a vegan     vegan   \n",
       "4    I don’t touch animal products much in my diet,...     vegan   \n",
       "..                                                 ...       ...   \n",
       "328  Last year I was a cashier at a gas station. I ...     vegan   \n",
       "329  So.. I've only been vegan for a few weeks and ...     vegan   \n",
       "330  Father, Entrepreneur, Playful \\n*Edit - Love t...     vegan   \n",
       "331  So first, I tried making a white bean soup, th...     vegan   \n",
       "332  Heya!  I'm new to the community.  I was just w...     vegan   \n",
       "\n",
       "                                                 title  \n",
       "0                           What a year this has been.  \n",
       "1    So, starting my vegan lifestyle tomorrow. Just...  \n",
       "2                  There's this cute vegan girl I like  \n",
       "3                     Upvote this post if you're vegan  \n",
       "4                                     2021 is my year!  \n",
       "..                                                 ...  \n",
       "328       Open Letter to a Former Customer: Thank You!  \n",
       "329                               Drunk Vegan Problems  \n",
       "330  Let's see who we are. Beside vegan, describe y...  \n",
       "331                 My homemade soups suck... help me.  \n",
       "332  Do you live with pets or animals? What do they...  \n",
       "\n",
       "[333 rows x 6 columns]"
      ]
     },
     "execution_count": 55,
     "metadata": {},
     "output_type": "execute_result"
    }
   ],
   "source": [
    "vegandf = pd.concat([vegan2021, vegan2020, vegan2019, vegan2018, vegan2017, vegan2016, vegan2015, vegan2014], axis=0).reset_index(drop=True)\n",
    "vegandf"
   ]
  },
  {
   "cell_type": "code",
   "execution_count": 56,
   "id": "cc722ec0-c179-4a5d-bde9-2a4c9bc08fb1",
   "metadata": {},
   "outputs": [],
   "source": [
    "finaldf = pd.concat([ketodf, vegandf])"
   ]
  },
  {
   "cell_type": "code",
   "execution_count": 57,
   "id": "4de3c82a-b054-4dff-97b9-f4f78c61117a",
   "metadata": {
    "tags": []
   },
   "outputs": [
    {
     "data": {
      "text/html": [
       "<div>\n",
       "<style scoped>\n",
       "    .dataframe tbody tr th:only-of-type {\n",
       "        vertical-align: middle;\n",
       "    }\n",
       "\n",
       "    .dataframe tbody tr th {\n",
       "        vertical-align: top;\n",
       "    }\n",
       "\n",
       "    .dataframe thead th {\n",
       "        text-align: right;\n",
       "    }\n",
       "</style>\n",
       "<table border=\"1\" class=\"dataframe\">\n",
       "  <thead>\n",
       "    <tr style=\"text-align: right;\">\n",
       "      <th></th>\n",
       "      <th>created_utc</th>\n",
       "      <th>num_comments</th>\n",
       "      <th>score</th>\n",
       "      <th>selftext</th>\n",
       "      <th>subreddit</th>\n",
       "      <th>title</th>\n",
       "      <th>is_keto</th>\n",
       "    </tr>\n",
       "  </thead>\n",
       "  <tbody>\n",
       "    <tr>\n",
       "      <th>0</th>\n",
       "      <td>1609460100</td>\n",
       "      <td>9</td>\n",
       "      <td>1</td>\n",
       "      <td>40 year old caucasian male, 5'11\", 200lbs)\\n\\n...</td>\n",
       "      <td>keto</td>\n",
       "      <td>High Cholesterol AND HS-CRP</td>\n",
       "      <td>1</td>\n",
       "    </tr>\n",
       "    <tr>\n",
       "      <th>1</th>\n",
       "      <td>1609461227</td>\n",
       "      <td>14</td>\n",
       "      <td>1</td>\n",
       "      <td>I’m a 36 year old male, married, 3 kids and we...</td>\n",
       "      <td>keto</td>\n",
       "      <td>36 Male and BP too high</td>\n",
       "      <td>1</td>\n",
       "    </tr>\n",
       "    <tr>\n",
       "      <th>2</th>\n",
       "      <td>1609461881</td>\n",
       "      <td>7</td>\n",
       "      <td>1</td>\n",
       "      <td>I started in may of 2019 and today i weight 22...</td>\n",
       "      <td>keto</td>\n",
       "      <td>New year, new goals, lets kick it this year.</td>\n",
       "      <td>1</td>\n",
       "    </tr>\n",
       "    <tr>\n",
       "      <th>3</th>\n",
       "      <td>1609463903</td>\n",
       "      <td>131</td>\n",
       "      <td>1</td>\n",
       "      <td>I use greenbeans as pasta constantly and my li...</td>\n",
       "      <td>keto</td>\n",
       "      <td>Why is NOBODY talking about green beans?</td>\n",
       "      <td>1</td>\n",
       "    </tr>\n",
       "    <tr>\n",
       "      <th>4</th>\n",
       "      <td>1609466161</td>\n",
       "      <td>30</td>\n",
       "      <td>1</td>\n",
       "      <td>Been keto since Jy 2020: previous post here \\n...</td>\n",
       "      <td>keto</td>\n",
       "      <td>85lbs down. Thanks for your inspiration r/keto</td>\n",
       "      <td>1</td>\n",
       "    </tr>\n",
       "    <tr>\n",
       "      <th>...</th>\n",
       "      <td>...</td>\n",
       "      <td>...</td>\n",
       "      <td>...</td>\n",
       "      <td>...</td>\n",
       "      <td>...</td>\n",
       "      <td>...</td>\n",
       "      <td>...</td>\n",
       "    </tr>\n",
       "    <tr>\n",
       "      <th>328</th>\n",
       "      <td>1389035068</td>\n",
       "      <td>18</td>\n",
       "      <td>60</td>\n",
       "      <td>Last year I was a cashier at a gas station. I ...</td>\n",
       "      <td>vegan</td>\n",
       "      <td>Open Letter to a Former Customer: Thank You!</td>\n",
       "      <td>0</td>\n",
       "    </tr>\n",
       "    <tr>\n",
       "      <th>329</th>\n",
       "      <td>1389040996</td>\n",
       "      <td>34</td>\n",
       "      <td>6</td>\n",
       "      <td>So.. I've only been vegan for a few weeks and ...</td>\n",
       "      <td>vegan</td>\n",
       "      <td>Drunk Vegan Problems</td>\n",
       "      <td>0</td>\n",
       "    </tr>\n",
       "    <tr>\n",
       "      <th>330</th>\n",
       "      <td>1389053502</td>\n",
       "      <td>79</td>\n",
       "      <td>11</td>\n",
       "      <td>Father, Entrepreneur, Playful \\n*Edit - Love t...</td>\n",
       "      <td>vegan</td>\n",
       "      <td>Let's see who we are. Beside vegan, describe y...</td>\n",
       "      <td>0</td>\n",
       "    </tr>\n",
       "    <tr>\n",
       "      <th>331</th>\n",
       "      <td>1389063698</td>\n",
       "      <td>15</td>\n",
       "      <td>2</td>\n",
       "      <td>So first, I tried making a white bean soup, th...</td>\n",
       "      <td>vegan</td>\n",
       "      <td>My homemade soups suck... help me.</td>\n",
       "      <td>0</td>\n",
       "    </tr>\n",
       "    <tr>\n",
       "      <th>332</th>\n",
       "      <td>1389066251</td>\n",
       "      <td>18</td>\n",
       "      <td>0</td>\n",
       "      <td>Heya!  I'm new to the community.  I was just w...</td>\n",
       "      <td>vegan</td>\n",
       "      <td>Do you live with pets or animals? What do they...</td>\n",
       "      <td>0</td>\n",
       "    </tr>\n",
       "  </tbody>\n",
       "</table>\n",
       "<p>705 rows × 7 columns</p>\n",
       "</div>"
      ],
      "text/plain": [
       "     created_utc  num_comments  score  \\\n",
       "0     1609460100             9      1   \n",
       "1     1609461227            14      1   \n",
       "2     1609461881             7      1   \n",
       "3     1609463903           131      1   \n",
       "4     1609466161            30      1   \n",
       "..           ...           ...    ...   \n",
       "328   1389035068            18     60   \n",
       "329   1389040996            34      6   \n",
       "330   1389053502            79     11   \n",
       "331   1389063698            15      2   \n",
       "332   1389066251            18      0   \n",
       "\n",
       "                                              selftext subreddit  \\\n",
       "0    40 year old caucasian male, 5'11\", 200lbs)\\n\\n...      keto   \n",
       "1    I’m a 36 year old male, married, 3 kids and we...      keto   \n",
       "2    I started in may of 2019 and today i weight 22...      keto   \n",
       "3    I use greenbeans as pasta constantly and my li...      keto   \n",
       "4    Been keto since Jy 2020: previous post here \\n...      keto   \n",
       "..                                                 ...       ...   \n",
       "328  Last year I was a cashier at a gas station. I ...     vegan   \n",
       "329  So.. I've only been vegan for a few weeks and ...     vegan   \n",
       "330  Father, Entrepreneur, Playful \\n*Edit - Love t...     vegan   \n",
       "331  So first, I tried making a white bean soup, th...     vegan   \n",
       "332  Heya!  I'm new to the community.  I was just w...     vegan   \n",
       "\n",
       "                                                 title  is_keto  \n",
       "0                          High Cholesterol AND HS-CRP        1  \n",
       "1                              36 Male and BP too high        1  \n",
       "2         New year, new goals, lets kick it this year.        1  \n",
       "3             Why is NOBODY talking about green beans?        1  \n",
       "4       85lbs down. Thanks for your inspiration r/keto        1  \n",
       "..                                                 ...      ...  \n",
       "328       Open Letter to a Former Customer: Thank You!        0  \n",
       "329                               Drunk Vegan Problems        0  \n",
       "330  Let's see who we are. Beside vegan, describe y...        0  \n",
       "331                 My homemade soups suck... help me.        0  \n",
       "332  Do you live with pets or animals? What do they...        0  \n",
       "\n",
       "[705 rows x 7 columns]"
      ]
     },
     "execution_count": 57,
     "metadata": {},
     "output_type": "execute_result"
    }
   ],
   "source": [
    "finaldf['is_keto']=np.where(finaldf['subreddit']=='keto', 1, 0)\n",
    "finaldf"
   ]
  },
  {
   "cell_type": "code",
   "execution_count": 58,
   "id": "66f5957a-eee1-4a56-b09d-b1d4602774b0",
   "metadata": {},
   "outputs": [
    {
     "data": {
      "text/html": [
       "<div>\n",
       "<style scoped>\n",
       "    .dataframe tbody tr th:only-of-type {\n",
       "        vertical-align: middle;\n",
       "    }\n",
       "\n",
       "    .dataframe tbody tr th {\n",
       "        vertical-align: top;\n",
       "    }\n",
       "\n",
       "    .dataframe thead th {\n",
       "        text-align: right;\n",
       "    }\n",
       "</style>\n",
       "<table border=\"1\" class=\"dataframe\">\n",
       "  <thead>\n",
       "    <tr style=\"text-align: right;\">\n",
       "      <th></th>\n",
       "      <th>created_utc</th>\n",
       "      <th>num_comments</th>\n",
       "      <th>score</th>\n",
       "      <th>selftext</th>\n",
       "      <th>subreddit</th>\n",
       "      <th>title</th>\n",
       "      <th>is_keto</th>\n",
       "    </tr>\n",
       "  </thead>\n",
       "  <tbody>\n",
       "    <tr>\n",
       "      <th>0</th>\n",
       "      <td>1609460100</td>\n",
       "      <td>9</td>\n",
       "      <td>1</td>\n",
       "      <td>40 year old caucasian male, 5'11\", 200lbs)\\n\\n...</td>\n",
       "      <td>keto</td>\n",
       "      <td>High Cholesterol AND HS-CRP</td>\n",
       "      <td>1</td>\n",
       "    </tr>\n",
       "    <tr>\n",
       "      <th>1</th>\n",
       "      <td>1609461227</td>\n",
       "      <td>14</td>\n",
       "      <td>1</td>\n",
       "      <td>I’m a 36 year old male, married, 3 kids and we...</td>\n",
       "      <td>keto</td>\n",
       "      <td>36 Male and BP too high</td>\n",
       "      <td>1</td>\n",
       "    </tr>\n",
       "    <tr>\n",
       "      <th>2</th>\n",
       "      <td>1609461881</td>\n",
       "      <td>7</td>\n",
       "      <td>1</td>\n",
       "      <td>I started in may of 2019 and today i weight 22...</td>\n",
       "      <td>keto</td>\n",
       "      <td>New year, new goals, lets kick it this year.</td>\n",
       "      <td>1</td>\n",
       "    </tr>\n",
       "    <tr>\n",
       "      <th>3</th>\n",
       "      <td>1609463903</td>\n",
       "      <td>131</td>\n",
       "      <td>1</td>\n",
       "      <td>I use greenbeans as pasta constantly and my li...</td>\n",
       "      <td>keto</td>\n",
       "      <td>Why is NOBODY talking about green beans?</td>\n",
       "      <td>1</td>\n",
       "    </tr>\n",
       "    <tr>\n",
       "      <th>4</th>\n",
       "      <td>1609466161</td>\n",
       "      <td>30</td>\n",
       "      <td>1</td>\n",
       "      <td>Been keto since Jy 2020: previous post here \\n...</td>\n",
       "      <td>keto</td>\n",
       "      <td>85lbs down. Thanks for your inspiration r/keto</td>\n",
       "      <td>1</td>\n",
       "    </tr>\n",
       "    <tr>\n",
       "      <th>...</th>\n",
       "      <td>...</td>\n",
       "      <td>...</td>\n",
       "      <td>...</td>\n",
       "      <td>...</td>\n",
       "      <td>...</td>\n",
       "      <td>...</td>\n",
       "      <td>...</td>\n",
       "    </tr>\n",
       "    <tr>\n",
       "      <th>700</th>\n",
       "      <td>1389035068</td>\n",
       "      <td>18</td>\n",
       "      <td>60</td>\n",
       "      <td>Last year I was a cashier at a gas station. I ...</td>\n",
       "      <td>vegan</td>\n",
       "      <td>Open Letter to a Former Customer: Thank You!</td>\n",
       "      <td>0</td>\n",
       "    </tr>\n",
       "    <tr>\n",
       "      <th>701</th>\n",
       "      <td>1389040996</td>\n",
       "      <td>34</td>\n",
       "      <td>6</td>\n",
       "      <td>So.. I've only been vegan for a few weeks and ...</td>\n",
       "      <td>vegan</td>\n",
       "      <td>Drunk Vegan Problems</td>\n",
       "      <td>0</td>\n",
       "    </tr>\n",
       "    <tr>\n",
       "      <th>702</th>\n",
       "      <td>1389053502</td>\n",
       "      <td>79</td>\n",
       "      <td>11</td>\n",
       "      <td>Father, Entrepreneur, Playful \\n*Edit - Love t...</td>\n",
       "      <td>vegan</td>\n",
       "      <td>Let's see who we are. Beside vegan, describe y...</td>\n",
       "      <td>0</td>\n",
       "    </tr>\n",
       "    <tr>\n",
       "      <th>703</th>\n",
       "      <td>1389063698</td>\n",
       "      <td>15</td>\n",
       "      <td>2</td>\n",
       "      <td>So first, I tried making a white bean soup, th...</td>\n",
       "      <td>vegan</td>\n",
       "      <td>My homemade soups suck... help me.</td>\n",
       "      <td>0</td>\n",
       "    </tr>\n",
       "    <tr>\n",
       "      <th>704</th>\n",
       "      <td>1389066251</td>\n",
       "      <td>18</td>\n",
       "      <td>0</td>\n",
       "      <td>Heya!  I'm new to the community.  I was just w...</td>\n",
       "      <td>vegan</td>\n",
       "      <td>Do you live with pets or animals? What do they...</td>\n",
       "      <td>0</td>\n",
       "    </tr>\n",
       "  </tbody>\n",
       "</table>\n",
       "<p>705 rows × 7 columns</p>\n",
       "</div>"
      ],
      "text/plain": [
       "     created_utc  num_comments  score  \\\n",
       "0     1609460100             9      1   \n",
       "1     1609461227            14      1   \n",
       "2     1609461881             7      1   \n",
       "3     1609463903           131      1   \n",
       "4     1609466161            30      1   \n",
       "..           ...           ...    ...   \n",
       "700   1389035068            18     60   \n",
       "701   1389040996            34      6   \n",
       "702   1389053502            79     11   \n",
       "703   1389063698            15      2   \n",
       "704   1389066251            18      0   \n",
       "\n",
       "                                              selftext subreddit  \\\n",
       "0    40 year old caucasian male, 5'11\", 200lbs)\\n\\n...      keto   \n",
       "1    I’m a 36 year old male, married, 3 kids and we...      keto   \n",
       "2    I started in may of 2019 and today i weight 22...      keto   \n",
       "3    I use greenbeans as pasta constantly and my li...      keto   \n",
       "4    Been keto since Jy 2020: previous post here \\n...      keto   \n",
       "..                                                 ...       ...   \n",
       "700  Last year I was a cashier at a gas station. I ...     vegan   \n",
       "701  So.. I've only been vegan for a few weeks and ...     vegan   \n",
       "702  Father, Entrepreneur, Playful \\n*Edit - Love t...     vegan   \n",
       "703  So first, I tried making a white bean soup, th...     vegan   \n",
       "704  Heya!  I'm new to the community.  I was just w...     vegan   \n",
       "\n",
       "                                                 title  is_keto  \n",
       "0                          High Cholesterol AND HS-CRP        1  \n",
       "1                              36 Male and BP too high        1  \n",
       "2         New year, new goals, lets kick it this year.        1  \n",
       "3             Why is NOBODY talking about green beans?        1  \n",
       "4       85lbs down. Thanks for your inspiration r/keto        1  \n",
       "..                                                 ...      ...  \n",
       "700       Open Letter to a Former Customer: Thank You!        0  \n",
       "701                               Drunk Vegan Problems        0  \n",
       "702  Let's see who we are. Beside vegan, describe y...        0  \n",
       "703                 My homemade soups suck... help me.        0  \n",
       "704  Do you live with pets or animals? What do they...        0  \n",
       "\n",
       "[705 rows x 7 columns]"
      ]
     },
     "execution_count": 58,
     "metadata": {},
     "output_type": "execute_result"
    }
   ],
   "source": [
    "finaldf = finaldf.reset_index(drop=True)\n",
    "finaldf"
   ]
  },
  {
   "cell_type": "code",
   "execution_count": 59,
   "id": "dd2d9ebc-0282-47bf-ad6e-4694cfe9fdae",
   "metadata": {},
   "outputs": [],
   "source": [
    "words = finaldf['title']+finaldf['selftext']"
   ]
  },
  {
   "cell_type": "code",
   "execution_count": 60,
   "id": "e538b0bf-398c-4fdb-90ba-5f52710b42b9",
   "metadata": {},
   "outputs": [],
   "source": [
    "finaldf['allwords']=words\n",
    "finaldf = finaldf.dropna()"
   ]
  },
  {
   "cell_type": "code",
   "execution_count": 61,
   "id": "9ddb12e1-6906-4cd0-a611-0caf18f07afd",
   "metadata": {},
   "outputs": [
    {
     "data": {
      "text/html": [
       "<div>\n",
       "<style scoped>\n",
       "    .dataframe tbody tr th:only-of-type {\n",
       "        vertical-align: middle;\n",
       "    }\n",
       "\n",
       "    .dataframe tbody tr th {\n",
       "        vertical-align: top;\n",
       "    }\n",
       "\n",
       "    .dataframe thead th {\n",
       "        text-align: right;\n",
       "    }\n",
       "</style>\n",
       "<table border=\"1\" class=\"dataframe\">\n",
       "  <thead>\n",
       "    <tr style=\"text-align: right;\">\n",
       "      <th></th>\n",
       "      <th>created_utc</th>\n",
       "      <th>num_comments</th>\n",
       "      <th>score</th>\n",
       "      <th>selftext</th>\n",
       "      <th>subreddit</th>\n",
       "      <th>title</th>\n",
       "      <th>is_keto</th>\n",
       "      <th>allwords</th>\n",
       "    </tr>\n",
       "  </thead>\n",
       "  <tbody>\n",
       "    <tr>\n",
       "      <th>0</th>\n",
       "      <td>1609460100</td>\n",
       "      <td>9</td>\n",
       "      <td>1</td>\n",
       "      <td>40 year old caucasian male, 5'11\", 200lbs)\\n\\n...</td>\n",
       "      <td>keto</td>\n",
       "      <td>High Cholesterol AND HS-CRP</td>\n",
       "      <td>1</td>\n",
       "      <td>High Cholesterol AND HS-CRP40 year old caucasi...</td>\n",
       "    </tr>\n",
       "    <tr>\n",
       "      <th>1</th>\n",
       "      <td>1609461227</td>\n",
       "      <td>14</td>\n",
       "      <td>1</td>\n",
       "      <td>I’m a 36 year old male, married, 3 kids and we...</td>\n",
       "      <td>keto</td>\n",
       "      <td>36 Male and BP too high</td>\n",
       "      <td>1</td>\n",
       "      <td>36 Male and BP too highI’m a 36 year old male,...</td>\n",
       "    </tr>\n",
       "  </tbody>\n",
       "</table>\n",
       "</div>"
      ],
      "text/plain": [
       "   created_utc  num_comments  score  \\\n",
       "0   1609460100             9      1   \n",
       "1   1609461227            14      1   \n",
       "\n",
       "                                            selftext subreddit  \\\n",
       "0  40 year old caucasian male, 5'11\", 200lbs)\\n\\n...      keto   \n",
       "1  I’m a 36 year old male, married, 3 kids and we...      keto   \n",
       "\n",
       "                         title  is_keto  \\\n",
       "0  High Cholesterol AND HS-CRP        1   \n",
       "1      36 Male and BP too high        1   \n",
       "\n",
       "                                            allwords  \n",
       "0  High Cholesterol AND HS-CRP40 year old caucasi...  \n",
       "1  36 Male and BP too highI’m a 36 year old male,...  "
      ]
     },
     "execution_count": 61,
     "metadata": {},
     "output_type": "execute_result"
    }
   ],
   "source": [
    "finaldf.to_csv('./data/finaldf.csv')\n",
    "finaldf.head(2)"
   ]
  },
  {
   "cell_type": "code",
   "execution_count": 62,
   "id": "15ddb6bf-b862-4812-bf80-27ec335f4ae0",
   "metadata": {},
   "outputs": [],
   "source": [
    "X = finaldf['allwords']\n",
    "\n",
    "X_lem = []\n",
    "for post in X:\n",
    "    X_lem.append(' '.join([WordNetLemmatizer().lemmatize(i) for i in post.split()]))\n",
    "    \n",
    "X_stem = []\n",
    "for post in X:\n",
    "    X_stem.append(' '.join([PorterStemmer().stem(i) for i in post.split()]))"
   ]
  },
  {
   "cell_type": "code",
   "execution_count": 63,
   "id": "0b1b42e4-422d-4b4a-91dc-24b65a7ab332",
   "metadata": {},
   "outputs": [],
   "source": [
    "y = finaldf['is_keto']"
   ]
  },
  {
   "cell_type": "code",
   "execution_count": 64,
   "id": "49cd93da-9be7-4e73-95bc-d4874856e40d",
   "metadata": {
    "tags": []
   },
   "outputs": [
    {
     "data": {
      "text/html": [
       "<div>\n",
       "<style scoped>\n",
       "    .dataframe tbody tr th:only-of-type {\n",
       "        vertical-align: middle;\n",
       "    }\n",
       "\n",
       "    .dataframe tbody tr th {\n",
       "        vertical-align: top;\n",
       "    }\n",
       "\n",
       "    .dataframe thead th {\n",
       "        text-align: right;\n",
       "    }\n",
       "</style>\n",
       "<table border=\"1\" class=\"dataframe\">\n",
       "  <thead>\n",
       "    <tr style=\"text-align: right;\">\n",
       "      <th></th>\n",
       "      <th>0</th>\n",
       "      <th>01</th>\n",
       "      <th>1</th>\n",
       "      <th>10</th>\n",
       "      <th>100</th>\n",
       "      <th>12</th>\n",
       "      <th>15</th>\n",
       "      <th>16</th>\n",
       "      <th>17</th>\n",
       "      <th>18</th>\n",
       "      <th>...</th>\n",
       "      <th>year's</th>\n",
       "      <th>years</th>\n",
       "      <th>yeast</th>\n",
       "      <th>yes</th>\n",
       "      <th>yesterday</th>\n",
       "      <th>you're</th>\n",
       "      <th>you've</th>\n",
       "      <th>youtube</th>\n",
       "      <th>zero</th>\n",
       "      <th>zoos</th>\n",
       "    </tr>\n",
       "  </thead>\n",
       "  <tbody>\n",
       "    <tr>\n",
       "      <th>0</th>\n",
       "      <td>0</td>\n",
       "      <td>0</td>\n",
       "      <td>1</td>\n",
       "      <td>0</td>\n",
       "      <td>0</td>\n",
       "      <td>0</td>\n",
       "      <td>0</td>\n",
       "      <td>0</td>\n",
       "      <td>0</td>\n",
       "      <td>0</td>\n",
       "      <td>...</td>\n",
       "      <td>0</td>\n",
       "      <td>0</td>\n",
       "      <td>0</td>\n",
       "      <td>0</td>\n",
       "      <td>0</td>\n",
       "      <td>0</td>\n",
       "      <td>0</td>\n",
       "      <td>0</td>\n",
       "      <td>0</td>\n",
       "      <td>0</td>\n",
       "    </tr>\n",
       "    <tr>\n",
       "      <th>1</th>\n",
       "      <td>0</td>\n",
       "      <td>0</td>\n",
       "      <td>0</td>\n",
       "      <td>0</td>\n",
       "      <td>0</td>\n",
       "      <td>0</td>\n",
       "      <td>0</td>\n",
       "      <td>0</td>\n",
       "      <td>0</td>\n",
       "      <td>0</td>\n",
       "      <td>...</td>\n",
       "      <td>0</td>\n",
       "      <td>0</td>\n",
       "      <td>0</td>\n",
       "      <td>0</td>\n",
       "      <td>0</td>\n",
       "      <td>0</td>\n",
       "      <td>0</td>\n",
       "      <td>0</td>\n",
       "      <td>0</td>\n",
       "      <td>0</td>\n",
       "    </tr>\n",
       "    <tr>\n",
       "      <th>2</th>\n",
       "      <td>0</td>\n",
       "      <td>0</td>\n",
       "      <td>0</td>\n",
       "      <td>0</td>\n",
       "      <td>0</td>\n",
       "      <td>0</td>\n",
       "      <td>0</td>\n",
       "      <td>0</td>\n",
       "      <td>0</td>\n",
       "      <td>0</td>\n",
       "      <td>...</td>\n",
       "      <td>0</td>\n",
       "      <td>0</td>\n",
       "      <td>0</td>\n",
       "      <td>0</td>\n",
       "      <td>0</td>\n",
       "      <td>0</td>\n",
       "      <td>0</td>\n",
       "      <td>0</td>\n",
       "      <td>0</td>\n",
       "      <td>0</td>\n",
       "    </tr>\n",
       "    <tr>\n",
       "      <th>3</th>\n",
       "      <td>0</td>\n",
       "      <td>0</td>\n",
       "      <td>0</td>\n",
       "      <td>0</td>\n",
       "      <td>0</td>\n",
       "      <td>0</td>\n",
       "      <td>0</td>\n",
       "      <td>0</td>\n",
       "      <td>0</td>\n",
       "      <td>0</td>\n",
       "      <td>...</td>\n",
       "      <td>0</td>\n",
       "      <td>0</td>\n",
       "      <td>0</td>\n",
       "      <td>1</td>\n",
       "      <td>0</td>\n",
       "      <td>0</td>\n",
       "      <td>0</td>\n",
       "      <td>0</td>\n",
       "      <td>0</td>\n",
       "      <td>0</td>\n",
       "    </tr>\n",
       "    <tr>\n",
       "      <th>4</th>\n",
       "      <td>0</td>\n",
       "      <td>0</td>\n",
       "      <td>0</td>\n",
       "      <td>0</td>\n",
       "      <td>0</td>\n",
       "      <td>0</td>\n",
       "      <td>0</td>\n",
       "      <td>0</td>\n",
       "      <td>0</td>\n",
       "      <td>0</td>\n",
       "      <td>...</td>\n",
       "      <td>0</td>\n",
       "      <td>0</td>\n",
       "      <td>0</td>\n",
       "      <td>0</td>\n",
       "      <td>0</td>\n",
       "      <td>0</td>\n",
       "      <td>0</td>\n",
       "      <td>0</td>\n",
       "      <td>0</td>\n",
       "      <td>0</td>\n",
       "    </tr>\n",
       "    <tr>\n",
       "      <th>...</th>\n",
       "      <td>...</td>\n",
       "      <td>...</td>\n",
       "      <td>...</td>\n",
       "      <td>...</td>\n",
       "      <td>...</td>\n",
       "      <td>...</td>\n",
       "      <td>...</td>\n",
       "      <td>...</td>\n",
       "      <td>...</td>\n",
       "      <td>...</td>\n",
       "      <td>...</td>\n",
       "      <td>...</td>\n",
       "      <td>...</td>\n",
       "      <td>...</td>\n",
       "      <td>...</td>\n",
       "      <td>...</td>\n",
       "      <td>...</td>\n",
       "      <td>...</td>\n",
       "      <td>...</td>\n",
       "      <td>...</td>\n",
       "      <td>...</td>\n",
       "    </tr>\n",
       "    <tr>\n",
       "      <th>698</th>\n",
       "      <td>0</td>\n",
       "      <td>0</td>\n",
       "      <td>0</td>\n",
       "      <td>0</td>\n",
       "      <td>0</td>\n",
       "      <td>0</td>\n",
       "      <td>0</td>\n",
       "      <td>0</td>\n",
       "      <td>0</td>\n",
       "      <td>0</td>\n",
       "      <td>...</td>\n",
       "      <td>0</td>\n",
       "      <td>0</td>\n",
       "      <td>0</td>\n",
       "      <td>0</td>\n",
       "      <td>0</td>\n",
       "      <td>0</td>\n",
       "      <td>0</td>\n",
       "      <td>0</td>\n",
       "      <td>0</td>\n",
       "      <td>0</td>\n",
       "    </tr>\n",
       "    <tr>\n",
       "      <th>699</th>\n",
       "      <td>0</td>\n",
       "      <td>0</td>\n",
       "      <td>0</td>\n",
       "      <td>0</td>\n",
       "      <td>0</td>\n",
       "      <td>0</td>\n",
       "      <td>0</td>\n",
       "      <td>0</td>\n",
       "      <td>0</td>\n",
       "      <td>0</td>\n",
       "      <td>...</td>\n",
       "      <td>0</td>\n",
       "      <td>0</td>\n",
       "      <td>0</td>\n",
       "      <td>0</td>\n",
       "      <td>0</td>\n",
       "      <td>1</td>\n",
       "      <td>0</td>\n",
       "      <td>0</td>\n",
       "      <td>0</td>\n",
       "      <td>0</td>\n",
       "    </tr>\n",
       "    <tr>\n",
       "      <th>700</th>\n",
       "      <td>0</td>\n",
       "      <td>0</td>\n",
       "      <td>0</td>\n",
       "      <td>0</td>\n",
       "      <td>0</td>\n",
       "      <td>0</td>\n",
       "      <td>0</td>\n",
       "      <td>0</td>\n",
       "      <td>0</td>\n",
       "      <td>0</td>\n",
       "      <td>...</td>\n",
       "      <td>0</td>\n",
       "      <td>0</td>\n",
       "      <td>0</td>\n",
       "      <td>0</td>\n",
       "      <td>0</td>\n",
       "      <td>0</td>\n",
       "      <td>0</td>\n",
       "      <td>0</td>\n",
       "      <td>0</td>\n",
       "      <td>0</td>\n",
       "    </tr>\n",
       "    <tr>\n",
       "      <th>701</th>\n",
       "      <td>0</td>\n",
       "      <td>0</td>\n",
       "      <td>0</td>\n",
       "      <td>0</td>\n",
       "      <td>0</td>\n",
       "      <td>0</td>\n",
       "      <td>0</td>\n",
       "      <td>0</td>\n",
       "      <td>0</td>\n",
       "      <td>0</td>\n",
       "      <td>...</td>\n",
       "      <td>0</td>\n",
       "      <td>0</td>\n",
       "      <td>0</td>\n",
       "      <td>0</td>\n",
       "      <td>0</td>\n",
       "      <td>0</td>\n",
       "      <td>0</td>\n",
       "      <td>0</td>\n",
       "      <td>0</td>\n",
       "      <td>0</td>\n",
       "    </tr>\n",
       "    <tr>\n",
       "      <th>702</th>\n",
       "      <td>0</td>\n",
       "      <td>0</td>\n",
       "      <td>0</td>\n",
       "      <td>0</td>\n",
       "      <td>0</td>\n",
       "      <td>0</td>\n",
       "      <td>0</td>\n",
       "      <td>0</td>\n",
       "      <td>0</td>\n",
       "      <td>0</td>\n",
       "      <td>...</td>\n",
       "      <td>0</td>\n",
       "      <td>0</td>\n",
       "      <td>0</td>\n",
       "      <td>0</td>\n",
       "      <td>0</td>\n",
       "      <td>0</td>\n",
       "      <td>0</td>\n",
       "      <td>0</td>\n",
       "      <td>0</td>\n",
       "      <td>0</td>\n",
       "    </tr>\n",
       "  </tbody>\n",
       "</table>\n",
       "<p>703 rows × 1000 columns</p>\n",
       "</div>"
      ],
      "text/plain": [
       "     0  01  1  10  100  12  15  16  17  18  ...  year's  years  yeast  yes  \\\n",
       "0    0   0  1   0    0   0   0   0   0   0  ...       0      0      0    0   \n",
       "1    0   0  0   0    0   0   0   0   0   0  ...       0      0      0    0   \n",
       "2    0   0  0   0    0   0   0   0   0   0  ...       0      0      0    0   \n",
       "3    0   0  0   0    0   0   0   0   0   0  ...       0      0      0    1   \n",
       "4    0   0  0   0    0   0   0   0   0   0  ...       0      0      0    0   \n",
       "..  ..  .. ..  ..  ...  ..  ..  ..  ..  ..  ...     ...    ...    ...  ...   \n",
       "698  0   0  0   0    0   0   0   0   0   0  ...       0      0      0    0   \n",
       "699  0   0  0   0    0   0   0   0   0   0  ...       0      0      0    0   \n",
       "700  0   0  0   0    0   0   0   0   0   0  ...       0      0      0    0   \n",
       "701  0   0  0   0    0   0   0   0   0   0  ...       0      0      0    0   \n",
       "702  0   0  0   0    0   0   0   0   0   0  ...       0      0      0    0   \n",
       "\n",
       "     yesterday  you're  you've  youtube  zero  zoos  \n",
       "0            0       0       0        0     0     0  \n",
       "1            0       0       0        0     0     0  \n",
       "2            0       0       0        0     0     0  \n",
       "3            0       0       0        0     0     0  \n",
       "4            0       0       0        0     0     0  \n",
       "..         ...     ...     ...      ...   ...   ...  \n",
       "698          0       0       0        0     0     0  \n",
       "699          0       1       0        0     0     0  \n",
       "700          0       0       0        0     0     0  \n",
       "701          0       0       0        0     0     0  \n",
       "702          0       0       0        0     0     0  \n",
       "\n",
       "[703 rows x 1000 columns]"
      ]
     },
     "execution_count": 64,
     "metadata": {},
     "output_type": "execute_result"
    }
   ],
   "source": [
    "cvect = CountVectorizer(stop_words='english', max_features=1000, token_pattern=\"[\\w']+|\\$[\\d\\.]+\")\n",
    "Xdf = pd.DataFrame(cvect.fit_transform(X).todense(), columns=cvect.get_feature_names_out())\n",
    "Xdf.to_csv('./data/feats.csv')\n",
    "Xdf"
   ]
  },
  {
   "cell_type": "code",
   "execution_count": 65,
   "id": "79dc5673-4fb9-4632-a769-f7dfaaf7ee3b",
   "metadata": {
    "tags": []
   },
   "outputs": [
    {
     "data": {
      "text/html": [
       "<div>\n",
       "<style scoped>\n",
       "    .dataframe tbody tr th:only-of-type {\n",
       "        vertical-align: middle;\n",
       "    }\n",
       "\n",
       "    .dataframe tbody tr th {\n",
       "        vertical-align: top;\n",
       "    }\n",
       "\n",
       "    .dataframe thead th {\n",
       "        text-align: right;\n",
       "    }\n",
       "</style>\n",
       "<table border=\"1\" class=\"dataframe\">\n",
       "  <thead>\n",
       "    <tr style=\"text-align: right;\">\n",
       "      <th></th>\n",
       "      <th>0</th>\n",
       "      <th>01</th>\n",
       "      <th>1</th>\n",
       "      <th>10</th>\n",
       "      <th>100</th>\n",
       "      <th>12</th>\n",
       "      <th>15</th>\n",
       "      <th>16</th>\n",
       "      <th>17</th>\n",
       "      <th>18</th>\n",
       "      <th>...</th>\n",
       "      <th>year's</th>\n",
       "      <th>years</th>\n",
       "      <th>yeast</th>\n",
       "      <th>yes</th>\n",
       "      <th>yesterday</th>\n",
       "      <th>you're</th>\n",
       "      <th>you've</th>\n",
       "      <th>youtube</th>\n",
       "      <th>zero</th>\n",
       "      <th>zoos</th>\n",
       "    </tr>\n",
       "  </thead>\n",
       "  <tbody>\n",
       "    <tr>\n",
       "      <th>0</th>\n",
       "      <td>0</td>\n",
       "      <td>0</td>\n",
       "      <td>1</td>\n",
       "      <td>0</td>\n",
       "      <td>0</td>\n",
       "      <td>0</td>\n",
       "      <td>0</td>\n",
       "      <td>0</td>\n",
       "      <td>0</td>\n",
       "      <td>0</td>\n",
       "      <td>...</td>\n",
       "      <td>0</td>\n",
       "      <td>0</td>\n",
       "      <td>0</td>\n",
       "      <td>0</td>\n",
       "      <td>0</td>\n",
       "      <td>0</td>\n",
       "      <td>0</td>\n",
       "      <td>0</td>\n",
       "      <td>0</td>\n",
       "      <td>0</td>\n",
       "    </tr>\n",
       "    <tr>\n",
       "      <th>1</th>\n",
       "      <td>0</td>\n",
       "      <td>0</td>\n",
       "      <td>0</td>\n",
       "      <td>0</td>\n",
       "      <td>0</td>\n",
       "      <td>0</td>\n",
       "      <td>0</td>\n",
       "      <td>0</td>\n",
       "      <td>0</td>\n",
       "      <td>0</td>\n",
       "      <td>...</td>\n",
       "      <td>0</td>\n",
       "      <td>0</td>\n",
       "      <td>0</td>\n",
       "      <td>0</td>\n",
       "      <td>0</td>\n",
       "      <td>0</td>\n",
       "      <td>0</td>\n",
       "      <td>0</td>\n",
       "      <td>0</td>\n",
       "      <td>0</td>\n",
       "    </tr>\n",
       "    <tr>\n",
       "      <th>2</th>\n",
       "      <td>0</td>\n",
       "      <td>0</td>\n",
       "      <td>0</td>\n",
       "      <td>0</td>\n",
       "      <td>0</td>\n",
       "      <td>0</td>\n",
       "      <td>0</td>\n",
       "      <td>0</td>\n",
       "      <td>0</td>\n",
       "      <td>0</td>\n",
       "      <td>...</td>\n",
       "      <td>0</td>\n",
       "      <td>0</td>\n",
       "      <td>0</td>\n",
       "      <td>0</td>\n",
       "      <td>0</td>\n",
       "      <td>0</td>\n",
       "      <td>0</td>\n",
       "      <td>0</td>\n",
       "      <td>0</td>\n",
       "      <td>0</td>\n",
       "    </tr>\n",
       "    <tr>\n",
       "      <th>3</th>\n",
       "      <td>0</td>\n",
       "      <td>0</td>\n",
       "      <td>0</td>\n",
       "      <td>0</td>\n",
       "      <td>0</td>\n",
       "      <td>0</td>\n",
       "      <td>0</td>\n",
       "      <td>0</td>\n",
       "      <td>0</td>\n",
       "      <td>0</td>\n",
       "      <td>...</td>\n",
       "      <td>0</td>\n",
       "      <td>0</td>\n",
       "      <td>0</td>\n",
       "      <td>1</td>\n",
       "      <td>0</td>\n",
       "      <td>0</td>\n",
       "      <td>0</td>\n",
       "      <td>0</td>\n",
       "      <td>0</td>\n",
       "      <td>0</td>\n",
       "    </tr>\n",
       "    <tr>\n",
       "      <th>4</th>\n",
       "      <td>0</td>\n",
       "      <td>0</td>\n",
       "      <td>0</td>\n",
       "      <td>0</td>\n",
       "      <td>0</td>\n",
       "      <td>0</td>\n",
       "      <td>0</td>\n",
       "      <td>0</td>\n",
       "      <td>0</td>\n",
       "      <td>0</td>\n",
       "      <td>...</td>\n",
       "      <td>0</td>\n",
       "      <td>0</td>\n",
       "      <td>0</td>\n",
       "      <td>0</td>\n",
       "      <td>0</td>\n",
       "      <td>0</td>\n",
       "      <td>0</td>\n",
       "      <td>0</td>\n",
       "      <td>0</td>\n",
       "      <td>0</td>\n",
       "    </tr>\n",
       "    <tr>\n",
       "      <th>...</th>\n",
       "      <td>...</td>\n",
       "      <td>...</td>\n",
       "      <td>...</td>\n",
       "      <td>...</td>\n",
       "      <td>...</td>\n",
       "      <td>...</td>\n",
       "      <td>...</td>\n",
       "      <td>...</td>\n",
       "      <td>...</td>\n",
       "      <td>...</td>\n",
       "      <td>...</td>\n",
       "      <td>...</td>\n",
       "      <td>...</td>\n",
       "      <td>...</td>\n",
       "      <td>...</td>\n",
       "      <td>...</td>\n",
       "      <td>...</td>\n",
       "      <td>...</td>\n",
       "      <td>...</td>\n",
       "      <td>...</td>\n",
       "      <td>...</td>\n",
       "    </tr>\n",
       "    <tr>\n",
       "      <th>698</th>\n",
       "      <td>0</td>\n",
       "      <td>0</td>\n",
       "      <td>0</td>\n",
       "      <td>0</td>\n",
       "      <td>0</td>\n",
       "      <td>0</td>\n",
       "      <td>0</td>\n",
       "      <td>0</td>\n",
       "      <td>0</td>\n",
       "      <td>0</td>\n",
       "      <td>...</td>\n",
       "      <td>0</td>\n",
       "      <td>0</td>\n",
       "      <td>0</td>\n",
       "      <td>0</td>\n",
       "      <td>0</td>\n",
       "      <td>0</td>\n",
       "      <td>0</td>\n",
       "      <td>0</td>\n",
       "      <td>0</td>\n",
       "      <td>0</td>\n",
       "    </tr>\n",
       "    <tr>\n",
       "      <th>699</th>\n",
       "      <td>0</td>\n",
       "      <td>0</td>\n",
       "      <td>0</td>\n",
       "      <td>0</td>\n",
       "      <td>0</td>\n",
       "      <td>0</td>\n",
       "      <td>0</td>\n",
       "      <td>0</td>\n",
       "      <td>0</td>\n",
       "      <td>0</td>\n",
       "      <td>...</td>\n",
       "      <td>0</td>\n",
       "      <td>0</td>\n",
       "      <td>0</td>\n",
       "      <td>0</td>\n",
       "      <td>0</td>\n",
       "      <td>1</td>\n",
       "      <td>0</td>\n",
       "      <td>0</td>\n",
       "      <td>0</td>\n",
       "      <td>0</td>\n",
       "    </tr>\n",
       "    <tr>\n",
       "      <th>700</th>\n",
       "      <td>0</td>\n",
       "      <td>0</td>\n",
       "      <td>0</td>\n",
       "      <td>0</td>\n",
       "      <td>0</td>\n",
       "      <td>0</td>\n",
       "      <td>0</td>\n",
       "      <td>0</td>\n",
       "      <td>0</td>\n",
       "      <td>0</td>\n",
       "      <td>...</td>\n",
       "      <td>0</td>\n",
       "      <td>0</td>\n",
       "      <td>0</td>\n",
       "      <td>0</td>\n",
       "      <td>0</td>\n",
       "      <td>0</td>\n",
       "      <td>0</td>\n",
       "      <td>0</td>\n",
       "      <td>0</td>\n",
       "      <td>0</td>\n",
       "    </tr>\n",
       "    <tr>\n",
       "      <th>701</th>\n",
       "      <td>0</td>\n",
       "      <td>0</td>\n",
       "      <td>0</td>\n",
       "      <td>0</td>\n",
       "      <td>0</td>\n",
       "      <td>0</td>\n",
       "      <td>0</td>\n",
       "      <td>0</td>\n",
       "      <td>0</td>\n",
       "      <td>0</td>\n",
       "      <td>...</td>\n",
       "      <td>0</td>\n",
       "      <td>0</td>\n",
       "      <td>0</td>\n",
       "      <td>0</td>\n",
       "      <td>0</td>\n",
       "      <td>0</td>\n",
       "      <td>0</td>\n",
       "      <td>0</td>\n",
       "      <td>0</td>\n",
       "      <td>0</td>\n",
       "    </tr>\n",
       "    <tr>\n",
       "      <th>702</th>\n",
       "      <td>0</td>\n",
       "      <td>0</td>\n",
       "      <td>0</td>\n",
       "      <td>0</td>\n",
       "      <td>0</td>\n",
       "      <td>0</td>\n",
       "      <td>0</td>\n",
       "      <td>0</td>\n",
       "      <td>0</td>\n",
       "      <td>0</td>\n",
       "      <td>...</td>\n",
       "      <td>0</td>\n",
       "      <td>0</td>\n",
       "      <td>0</td>\n",
       "      <td>0</td>\n",
       "      <td>0</td>\n",
       "      <td>0</td>\n",
       "      <td>0</td>\n",
       "      <td>0</td>\n",
       "      <td>0</td>\n",
       "      <td>0</td>\n",
       "    </tr>\n",
       "  </tbody>\n",
       "</table>\n",
       "<p>703 rows × 1000 columns</p>\n",
       "</div>"
      ],
      "text/plain": [
       "     0  01  1  10  100  12  15  16  17  18  ...  year's  years  yeast  yes  \\\n",
       "0    0   0  1   0    0   0   0   0   0   0  ...       0      0      0    0   \n",
       "1    0   0  0   0    0   0   0   0   0   0  ...       0      0      0    0   \n",
       "2    0   0  0   0    0   0   0   0   0   0  ...       0      0      0    0   \n",
       "3    0   0  0   0    0   0   0   0   0   0  ...       0      0      0    1   \n",
       "4    0   0  0   0    0   0   0   0   0   0  ...       0      0      0    0   \n",
       "..  ..  .. ..  ..  ...  ..  ..  ..  ..  ..  ...     ...    ...    ...  ...   \n",
       "698  0   0  0   0    0   0   0   0   0   0  ...       0      0      0    0   \n",
       "699  0   0  0   0    0   0   0   0   0   0  ...       0      0      0    0   \n",
       "700  0   0  0   0    0   0   0   0   0   0  ...       0      0      0    0   \n",
       "701  0   0  0   0    0   0   0   0   0   0  ...       0      0      0    0   \n",
       "702  0   0  0   0    0   0   0   0   0   0  ...       0      0      0    0   \n",
       "\n",
       "     yesterday  you're  you've  youtube  zero  zoos  \n",
       "0            0       0       0        0     0     0  \n",
       "1            0       0       0        0     0     0  \n",
       "2            0       0       0        0     0     0  \n",
       "3            0       0       0        0     0     0  \n",
       "4            0       0       0        0     0     0  \n",
       "..         ...     ...     ...      ...   ...   ...  \n",
       "698          0       0       0        0     0     0  \n",
       "699          0       1       0        0     0     0  \n",
       "700          0       0       0        0     0     0  \n",
       "701          0       0       0        0     0     0  \n",
       "702          0       0       0        0     0     0  \n",
       "\n",
       "[703 rows x 1000 columns]"
      ]
     },
     "execution_count": 65,
     "metadata": {},
     "output_type": "execute_result"
    }
   ],
   "source": [
    "cvect1 = CountVectorizer(stop_words='english', max_features=1000, token_pattern=\"[\\w']+|\\$[\\d\\.]+\")\n",
    "Xlemdf = pd.DataFrame(cvect1.fit_transform(X_lem).todense(), columns=cvect1.get_feature_names_out())\n",
    "Xlemdf.to_csv('./data/lemfeats.csv')\n",
    "Xlemdf"
   ]
  },
  {
   "cell_type": "code",
   "execution_count": 66,
   "id": "af65d982-f97c-433d-8783-23323cae7173",
   "metadata": {
    "tags": []
   },
   "outputs": [
    {
     "data": {
      "text/html": [
       "<div>\n",
       "<style scoped>\n",
       "    .dataframe tbody tr th:only-of-type {\n",
       "        vertical-align: middle;\n",
       "    }\n",
       "\n",
       "    .dataframe tbody tr th {\n",
       "        vertical-align: top;\n",
       "    }\n",
       "\n",
       "    .dataframe thead th {\n",
       "        text-align: right;\n",
       "    }\n",
       "</style>\n",
       "<table border=\"1\" class=\"dataframe\">\n",
       "  <thead>\n",
       "    <tr style=\"text-align: right;\">\n",
       "      <th></th>\n",
       "      <th>0</th>\n",
       "      <th>01</th>\n",
       "      <th>1</th>\n",
       "      <th>10</th>\n",
       "      <th>100</th>\n",
       "      <th>12</th>\n",
       "      <th>15</th>\n",
       "      <th>16</th>\n",
       "      <th>17</th>\n",
       "      <th>18</th>\n",
       "      <th>...</th>\n",
       "      <th>y</th>\n",
       "      <th>year</th>\n",
       "      <th>year'</th>\n",
       "      <th>years</th>\n",
       "      <th>yeast</th>\n",
       "      <th>yesterday</th>\n",
       "      <th>you'r</th>\n",
       "      <th>you'v</th>\n",
       "      <th>youtube</th>\n",
       "      <th>zero</th>\n",
       "    </tr>\n",
       "  </thead>\n",
       "  <tbody>\n",
       "    <tr>\n",
       "      <th>0</th>\n",
       "      <td>0</td>\n",
       "      <td>0</td>\n",
       "      <td>1</td>\n",
       "      <td>0</td>\n",
       "      <td>0</td>\n",
       "      <td>0</td>\n",
       "      <td>0</td>\n",
       "      <td>0</td>\n",
       "      <td>0</td>\n",
       "      <td>0</td>\n",
       "      <td>...</td>\n",
       "      <td>0</td>\n",
       "      <td>1</td>\n",
       "      <td>0</td>\n",
       "      <td>0</td>\n",
       "      <td>0</td>\n",
       "      <td>0</td>\n",
       "      <td>0</td>\n",
       "      <td>0</td>\n",
       "      <td>0</td>\n",
       "      <td>0</td>\n",
       "    </tr>\n",
       "    <tr>\n",
       "      <th>1</th>\n",
       "      <td>0</td>\n",
       "      <td>0</td>\n",
       "      <td>0</td>\n",
       "      <td>0</td>\n",
       "      <td>0</td>\n",
       "      <td>0</td>\n",
       "      <td>0</td>\n",
       "      <td>0</td>\n",
       "      <td>0</td>\n",
       "      <td>0</td>\n",
       "      <td>...</td>\n",
       "      <td>0</td>\n",
       "      <td>3</td>\n",
       "      <td>0</td>\n",
       "      <td>0</td>\n",
       "      <td>0</td>\n",
       "      <td>0</td>\n",
       "      <td>0</td>\n",
       "      <td>0</td>\n",
       "      <td>0</td>\n",
       "      <td>0</td>\n",
       "    </tr>\n",
       "    <tr>\n",
       "      <th>2</th>\n",
       "      <td>0</td>\n",
       "      <td>0</td>\n",
       "      <td>0</td>\n",
       "      <td>0</td>\n",
       "      <td>0</td>\n",
       "      <td>0</td>\n",
       "      <td>0</td>\n",
       "      <td>0</td>\n",
       "      <td>0</td>\n",
       "      <td>0</td>\n",
       "      <td>...</td>\n",
       "      <td>0</td>\n",
       "      <td>2</td>\n",
       "      <td>0</td>\n",
       "      <td>0</td>\n",
       "      <td>0</td>\n",
       "      <td>0</td>\n",
       "      <td>0</td>\n",
       "      <td>0</td>\n",
       "      <td>0</td>\n",
       "      <td>0</td>\n",
       "    </tr>\n",
       "    <tr>\n",
       "      <th>3</th>\n",
       "      <td>0</td>\n",
       "      <td>0</td>\n",
       "      <td>0</td>\n",
       "      <td>0</td>\n",
       "      <td>0</td>\n",
       "      <td>0</td>\n",
       "      <td>0</td>\n",
       "      <td>0</td>\n",
       "      <td>0</td>\n",
       "      <td>0</td>\n",
       "      <td>...</td>\n",
       "      <td>0</td>\n",
       "      <td>0</td>\n",
       "      <td>0</td>\n",
       "      <td>0</td>\n",
       "      <td>0</td>\n",
       "      <td>0</td>\n",
       "      <td>0</td>\n",
       "      <td>0</td>\n",
       "      <td>0</td>\n",
       "      <td>0</td>\n",
       "    </tr>\n",
       "    <tr>\n",
       "      <th>4</th>\n",
       "      <td>0</td>\n",
       "      <td>0</td>\n",
       "      <td>0</td>\n",
       "      <td>0</td>\n",
       "      <td>0</td>\n",
       "      <td>0</td>\n",
       "      <td>0</td>\n",
       "      <td>0</td>\n",
       "      <td>0</td>\n",
       "      <td>0</td>\n",
       "      <td>...</td>\n",
       "      <td>0</td>\n",
       "      <td>2</td>\n",
       "      <td>0</td>\n",
       "      <td>0</td>\n",
       "      <td>0</td>\n",
       "      <td>0</td>\n",
       "      <td>0</td>\n",
       "      <td>0</td>\n",
       "      <td>0</td>\n",
       "      <td>0</td>\n",
       "    </tr>\n",
       "    <tr>\n",
       "      <th>...</th>\n",
       "      <td>...</td>\n",
       "      <td>...</td>\n",
       "      <td>...</td>\n",
       "      <td>...</td>\n",
       "      <td>...</td>\n",
       "      <td>...</td>\n",
       "      <td>...</td>\n",
       "      <td>...</td>\n",
       "      <td>...</td>\n",
       "      <td>...</td>\n",
       "      <td>...</td>\n",
       "      <td>...</td>\n",
       "      <td>...</td>\n",
       "      <td>...</td>\n",
       "      <td>...</td>\n",
       "      <td>...</td>\n",
       "      <td>...</td>\n",
       "      <td>...</td>\n",
       "      <td>...</td>\n",
       "      <td>...</td>\n",
       "      <td>...</td>\n",
       "    </tr>\n",
       "    <tr>\n",
       "      <th>698</th>\n",
       "      <td>0</td>\n",
       "      <td>0</td>\n",
       "      <td>0</td>\n",
       "      <td>0</td>\n",
       "      <td>0</td>\n",
       "      <td>0</td>\n",
       "      <td>0</td>\n",
       "      <td>0</td>\n",
       "      <td>0</td>\n",
       "      <td>0</td>\n",
       "      <td>...</td>\n",
       "      <td>0</td>\n",
       "      <td>1</td>\n",
       "      <td>0</td>\n",
       "      <td>0</td>\n",
       "      <td>0</td>\n",
       "      <td>0</td>\n",
       "      <td>0</td>\n",
       "      <td>0</td>\n",
       "      <td>0</td>\n",
       "      <td>0</td>\n",
       "    </tr>\n",
       "    <tr>\n",
       "      <th>699</th>\n",
       "      <td>0</td>\n",
       "      <td>0</td>\n",
       "      <td>0</td>\n",
       "      <td>0</td>\n",
       "      <td>0</td>\n",
       "      <td>0</td>\n",
       "      <td>0</td>\n",
       "      <td>0</td>\n",
       "      <td>0</td>\n",
       "      <td>0</td>\n",
       "      <td>...</td>\n",
       "      <td>0</td>\n",
       "      <td>0</td>\n",
       "      <td>0</td>\n",
       "      <td>0</td>\n",
       "      <td>0</td>\n",
       "      <td>0</td>\n",
       "      <td>1</td>\n",
       "      <td>0</td>\n",
       "      <td>0</td>\n",
       "      <td>0</td>\n",
       "    </tr>\n",
       "    <tr>\n",
       "      <th>700</th>\n",
       "      <td>0</td>\n",
       "      <td>0</td>\n",
       "      <td>0</td>\n",
       "      <td>0</td>\n",
       "      <td>0</td>\n",
       "      <td>0</td>\n",
       "      <td>0</td>\n",
       "      <td>0</td>\n",
       "      <td>0</td>\n",
       "      <td>0</td>\n",
       "      <td>...</td>\n",
       "      <td>0</td>\n",
       "      <td>0</td>\n",
       "      <td>0</td>\n",
       "      <td>0</td>\n",
       "      <td>0</td>\n",
       "      <td>0</td>\n",
       "      <td>0</td>\n",
       "      <td>0</td>\n",
       "      <td>0</td>\n",
       "      <td>0</td>\n",
       "    </tr>\n",
       "    <tr>\n",
       "      <th>701</th>\n",
       "      <td>0</td>\n",
       "      <td>0</td>\n",
       "      <td>0</td>\n",
       "      <td>0</td>\n",
       "      <td>0</td>\n",
       "      <td>0</td>\n",
       "      <td>0</td>\n",
       "      <td>0</td>\n",
       "      <td>0</td>\n",
       "      <td>0</td>\n",
       "      <td>...</td>\n",
       "      <td>0</td>\n",
       "      <td>0</td>\n",
       "      <td>0</td>\n",
       "      <td>0</td>\n",
       "      <td>0</td>\n",
       "      <td>0</td>\n",
       "      <td>0</td>\n",
       "      <td>0</td>\n",
       "      <td>0</td>\n",
       "      <td>0</td>\n",
       "    </tr>\n",
       "    <tr>\n",
       "      <th>702</th>\n",
       "      <td>0</td>\n",
       "      <td>0</td>\n",
       "      <td>0</td>\n",
       "      <td>0</td>\n",
       "      <td>0</td>\n",
       "      <td>0</td>\n",
       "      <td>0</td>\n",
       "      <td>0</td>\n",
       "      <td>0</td>\n",
       "      <td>0</td>\n",
       "      <td>...</td>\n",
       "      <td>0</td>\n",
       "      <td>0</td>\n",
       "      <td>0</td>\n",
       "      <td>0</td>\n",
       "      <td>0</td>\n",
       "      <td>0</td>\n",
       "      <td>0</td>\n",
       "      <td>0</td>\n",
       "      <td>0</td>\n",
       "      <td>0</td>\n",
       "    </tr>\n",
       "  </tbody>\n",
       "</table>\n",
       "<p>703 rows × 1000 columns</p>\n",
       "</div>"
      ],
      "text/plain": [
       "     0  01  1  10  100  12  15  16  17  18  ...  y  year  year'  years  yeast  \\\n",
       "0    0   0  1   0    0   0   0   0   0   0  ...  0     1      0      0      0   \n",
       "1    0   0  0   0    0   0   0   0   0   0  ...  0     3      0      0      0   \n",
       "2    0   0  0   0    0   0   0   0   0   0  ...  0     2      0      0      0   \n",
       "3    0   0  0   0    0   0   0   0   0   0  ...  0     0      0      0      0   \n",
       "4    0   0  0   0    0   0   0   0   0   0  ...  0     2      0      0      0   \n",
       "..  ..  .. ..  ..  ...  ..  ..  ..  ..  ..  ... ..   ...    ...    ...    ...   \n",
       "698  0   0  0   0    0   0   0   0   0   0  ...  0     1      0      0      0   \n",
       "699  0   0  0   0    0   0   0   0   0   0  ...  0     0      0      0      0   \n",
       "700  0   0  0   0    0   0   0   0   0   0  ...  0     0      0      0      0   \n",
       "701  0   0  0   0    0   0   0   0   0   0  ...  0     0      0      0      0   \n",
       "702  0   0  0   0    0   0   0   0   0   0  ...  0     0      0      0      0   \n",
       "\n",
       "     yesterday  you'r  you'v  youtube  zero  \n",
       "0            0      0      0        0     0  \n",
       "1            0      0      0        0     0  \n",
       "2            0      0      0        0     0  \n",
       "3            0      0      0        0     0  \n",
       "4            0      0      0        0     0  \n",
       "..         ...    ...    ...      ...   ...  \n",
       "698          0      0      0        0     0  \n",
       "699          0      1      0        0     0  \n",
       "700          0      0      0        0     0  \n",
       "701          0      0      0        0     0  \n",
       "702          0      0      0        0     0  \n",
       "\n",
       "[703 rows x 1000 columns]"
      ]
     },
     "execution_count": 66,
     "metadata": {},
     "output_type": "execute_result"
    }
   ],
   "source": [
    "cvect2 = CountVectorizer(stop_words='english', max_features=1000, token_pattern=\"[\\w']+|\\$[\\d\\.]+\")\n",
    "Xstemdf = pd.DataFrame(cvect2.fit_transform(X_stem).todense(), columns=cvect2.get_feature_names_out())\n",
    "Xstemdf.to_csv('./data/stemfeats.csv')\n",
    "Xstemdf"
   ]
  },
  {
   "cell_type": "markdown",
   "id": "c6ffc809-ba1a-4524-b32c-06bafb54bc02",
   "metadata": {},
   "source": [
    "### **Create and compared 5 Models Below**. \n",
    "### I have modeled **3 Logistic Regression Classifiers** using the plain text vectorized, lemmatized text vectorized, and stemmed text vectorized. \n",
    "### After, I also try **2 Multinomial Naive Bayes Clssifiers** using Lemmatized and Stemmed Text."
   ]
  },
  {
   "cell_type": "code",
   "execution_count": 67,
   "id": "d5b68b54-1c68-40b1-abab-e97e7ae99247",
   "metadata": {},
   "outputs": [],
   "source": [
    "def Categorical_Scores(y_test, predictions):\n",
    "    tn, fp, fn, tp = metrics.confusion_matrix(y_test, predictions).ravel()\n",
    "    acc = metrics.accuracy_score(y_test, predictions)\n",
    "    sensi = tp/(fn+tp)\n",
    "    speci = tn/(fp+tn)\n",
    "    preci = metrics.precision_score(y_test, predictions)\n",
    "\n",
    "    return {'Accuracy Score':acc, 'Sensitivity Score':sensi, 'Specificity Score':speci, 'Precision Score':preci, 'Average Score':round(sum([acc, sensi, speci, preci])/4, 5)}"
   ]
  },
  {
   "cell_type": "markdown",
   "id": "6a8488ff-cb21-4620-8936-4ae74419e519",
   "metadata": {},
   "source": [
    "### **Vectorized Logistic Regression Model**"
   ]
  },
  {
   "cell_type": "code",
   "execution_count": 68,
   "id": "86e4cede-9e36-4cdc-ab7b-148bc5c663bd",
   "metadata": {},
   "outputs": [],
   "source": [
    "X_train, X_test, y_train, y_test = train_test_split(Xdf, y, random_state=4)"
   ]
  },
  {
   "cell_type": "code",
   "execution_count": 69,
   "id": "1047dae7-77c2-4b77-80b3-4896d2d0ebdd",
   "metadata": {},
   "outputs": [
    {
     "data": {
      "text/plain": [
       "{'Accuracy Score': 0.9602272727272727,\n",
       " 'Sensitivity Score': 0.9387755102040817,\n",
       " 'Specificity Score': 0.9871794871794872,\n",
       " 'Precision Score': 0.989247311827957,\n",
       " 'Average Score': 0.96886}"
      ]
     },
     "execution_count": 69,
     "metadata": {},
     "output_type": "execute_result"
    }
   ],
   "source": [
    "log = LogisticRegression()\n",
    "log.fit(X_train, y_train)\n",
    "log_preds = log.predict(X_test)\n",
    "log_scores = Categorical_Scores(y_test, log_preds)\n",
    "log_scores"
   ]
  },
  {
   "cell_type": "code",
   "execution_count": 70,
   "id": "7d96de08-ddd0-4bad-bcda-9b3db1b23471",
   "metadata": {},
   "outputs": [
    {
     "data": {
      "image/png": "[encoded data removed]",
      "text/plain": [
       "<Figure size 432x288 with 2 Axes>"
      ]
     },
     "metadata": {
      "needs_background": "light"
     },
     "output_type": "display_data"
    }
   ],
   "source": [
    "metrics.ConfusionMatrixDisplay.from_estimator( log, X_test, y_test, display_labels=['Keto', 'Vegan']);"
   ]
  },
  {
   "cell_type": "code",
   "execution_count": 71,
   "id": "eb56d5ad-8f95-4fb0-bbe2-1f1bdf72183a",
   "metadata": {},
   "outputs": [
    {
     "data": {
      "image/png": "[encoded data removed]",
      "text/plain": [
       "<Figure size 432x288 with 1 Axes>"
      ]
     },
     "metadata": {
      "needs_background": "light"
     },
     "output_type": "display_data"
    }
   ],
   "source": [
    "metrics.RocCurveDisplay.from_estimator(log, X_test, y_test);"
   ]
  },
  {
   "cell_type": "markdown",
   "id": "c36897f3-5c92-4f2e-bbd0-7f774446c858",
   "metadata": {},
   "source": [
    "### **Lemmatized Logistic Regression**"
   ]
  },
  {
   "cell_type": "code",
   "execution_count": 72,
   "id": "d60da669-012d-4aba-ac7f-2343bbddbae0",
   "metadata": {},
   "outputs": [],
   "source": [
    "X_train1, X_test1, y_train1, y_test1 = train_test_split(Xlemdf, y, random_state=4)"
   ]
  },
  {
   "cell_type": "code",
   "execution_count": 73,
   "id": "db89313d-d95e-4f73-b26e-188f26fa5021",
   "metadata": {},
   "outputs": [
    {
     "data": {
      "text/plain": [
       "{'Accuracy Score': 0.9715909090909091,\n",
       " 'Sensitivity Score': 0.9591836734693877,\n",
       " 'Specificity Score': 0.9871794871794872,\n",
       " 'Precision Score': 0.9894736842105263,\n",
       " 'Average Score': 0.97686}"
      ]
     },
     "execution_count": 73,
     "metadata": {},
     "output_type": "execute_result"
    }
   ],
   "source": [
    "lemlog = LogisticRegression()\n",
    "lemlog.fit(X_train1, y_train1)\n",
    "lemlog_preds = lemlog.predict(X_test1)\n",
    "lemlog_scores = Categorical_Scores(y_test1, lemlog_preds)\n",
    "lemlog_scores"
   ]
  },
  {
   "cell_type": "code",
   "execution_count": 74,
   "id": "cf7a2d06-b913-4ba2-98c8-909f0032c5f7",
   "metadata": {},
   "outputs": [
    {
     "data": {
      "image/png": "[encoded data removed]",
      "text/plain": [
       "<Figure size 432x288 with 2 Axes>"
      ]
     },
     "metadata": {
      "needs_background": "light"
     },
     "output_type": "display_data"
    }
   ],
   "source": [
    "pd\n",
    "metrics.ConfusionMatrixDisplay.from_estimator( lemlog, X_test1, y_test1, display_labels=['Keto', 'Vegan']);"
   ]
  },
  {
   "cell_type": "code",
   "execution_count": 75,
   "id": "7fef6023-602f-4254-bfeb-a4d03451c640",
   "metadata": {},
   "outputs": [
    {
     "data": {
      "image/png": "[encoded data removed]",
      "text/plain": [
       "<Figure size 432x288 with 1 Axes>"
      ]
     },
     "metadata": {
      "needs_background": "light"
     },
     "output_type": "display_data"
    }
   ],
   "source": [
    "metrics.RocCurveDisplay.from_estimator(lemlog, X_test1, y_test1);"
   ]
  },
  {
   "cell_type": "markdown",
   "id": "07504acc-543e-4ad5-8037-f2400fd03fa7",
   "metadata": {},
   "source": [
    "### **Stemmed Logistic Regression**"
   ]
  },
  {
   "cell_type": "code",
   "execution_count": 76,
   "id": "1fa87a85-81e2-4739-897f-ac9e84866d61",
   "metadata": {},
   "outputs": [],
   "source": [
    "X_train2, X_test2, y_train2, y_test2 = train_test_split(Xstemdf, y, random_state=4)"
   ]
  },
  {
   "cell_type": "code",
   "execution_count": 77,
   "id": "5927d3af-1a85-4dc3-bd8c-871d1c4a3f45",
   "metadata": {},
   "outputs": [
    {
     "data": {
      "text/plain": [
       "{'Accuracy Score': 0.9545454545454546,\n",
       " 'Sensitivity Score': 0.9387755102040817,\n",
       " 'Specificity Score': 0.9743589743589743,\n",
       " 'Precision Score': 0.9787234042553191,\n",
       " 'Average Score': 0.9616}"
      ]
     },
     "execution_count": 77,
     "metadata": {},
     "output_type": "execute_result"
    }
   ],
   "source": [
    "stemlog = LogisticRegression() \n",
    "stemlog.fit(X_train2, y_train2)  \n",
    "stemlog_preds = stemlog.predict(X_test2)  \n",
    "stemlog_scores = Categorical_Scores(y_test2, stemlog_preds)  \n",
    "stemlog_scores"
   ]
  },
  {
   "cell_type": "code",
   "execution_count": 78,
   "id": "5296e45a-3944-4926-9d93-6d57b7a3fe83",
   "metadata": {},
   "outputs": [
    {
     "data": {
      "image/png": "[encoded data removed]",
      "text/plain": [
       "<Figure size 432x288 with 2 Axes>"
      ]
     },
     "metadata": {
      "needs_background": "light"
     },
     "output_type": "display_data"
    }
   ],
   "source": [
    "metrics.ConfusionMatrixDisplay.from_estimator( stemlog, X_test2, y_test2, display_labels=['Keto', 'Vegan']);"
   ]
  },
  {
   "cell_type": "code",
   "execution_count": 79,
   "id": "8ec38d4c-d538-4cd5-8add-099855458e05",
   "metadata": {},
   "outputs": [
    {
     "data": {
      "image/png": "[encoded data removed]",
      "text/plain": [
       "<Figure size 432x288 with 1 Axes>"
      ]
     },
     "metadata": {
      "needs_background": "light"
     },
     "output_type": "display_data"
    }
   ],
   "source": [
    "metrics.RocCurveDisplay.from_estimator(stemlog, X_test2, y_test2);"
   ]
  },
  {
   "cell_type": "markdown",
   "id": "cfe439ca-56dd-4ccb-b3ea-d857fcc5ff81",
   "metadata": {},
   "source": [
    "### **Lemmatized Multinomial Naive Bayes Model**"
   ]
  },
  {
   "cell_type": "code",
   "execution_count": 80,
   "id": "0192b552-3e06-46db-9671-49d3a0299af4",
   "metadata": {},
   "outputs": [],
   "source": [
    "X_train3, X_test3, y_train3, y_test3 = train_test_split(Xlemdf, y, random_state=4)"
   ]
  },
  {
   "cell_type": "code",
   "execution_count": 81,
   "id": "7d8cf86c-6443-4210-9af6-2641ff3671d3",
   "metadata": {},
   "outputs": [
    {
     "data": {
      "text/plain": [
       "{'Accuracy Score': 0.9431818181818182,\n",
       " 'Sensitivity Score': 0.9081632653061225,\n",
       " 'Specificity Score': 0.9871794871794872,\n",
       " 'Precision Score': 0.9888888888888889,\n",
       " 'Average Score': 0.95685}"
      ]
     },
     "execution_count": 81,
     "metadata": {},
     "output_type": "execute_result"
    }
   ],
   "source": [
    "LemMultiNB = MultinomialNB()\n",
    "LemMultiNB.fit(X_train3, y_train3)  \n",
    "LemMultiNB_preds = LemMultiNB.predict(X_test3)  \n",
    "LemMultiNB_scores = Categorical_Scores(y_test3, LemMultiNB_preds)  \n",
    "LemMultiNB_scores"
   ]
  },
  {
   "cell_type": "code",
   "execution_count": 82,
   "id": "7fb5f4e5-65dc-4f47-be3f-4eaff109a0eb",
   "metadata": {},
   "outputs": [
    {
     "data": {
      "image/png": "[encoded data removed]",
      "text/plain": [
       "<Figure size 432x288 with 2 Axes>"
      ]
     },
     "metadata": {
      "needs_background": "light"
     },
     "output_type": "display_data"
    }
   ],
   "source": [
    "metrics.ConfusionMatrixDisplay.from_estimator( LemMultiNB, X_test3, y_test3, display_labels=['Keto', 'Vegan']);"
   ]
  },
  {
   "cell_type": "code",
   "execution_count": 83,
   "id": "080f32b7-967b-47af-9d82-462604510127",
   "metadata": {},
   "outputs": [
    {
     "data": {
      "image/png": "[encoded data removed]",
      "text/plain": [
       "<Figure size 432x288 with 1 Axes>"
      ]
     },
     "metadata": {
      "needs_background": "light"
     },
     "output_type": "display_data"
    }
   ],
   "source": [
    "metrics.RocCurveDisplay.from_estimator(LemMultiNB, X_test3, y_test3);"
   ]
  },
  {
   "cell_type": "markdown",
   "id": "e8c1b62a-c2fd-4226-949e-fd06669e7588",
   "metadata": {},
   "source": [
    "### **Stemmed Multinomial Naive Bayes Model**"
   ]
  },
  {
   "cell_type": "code",
   "execution_count": 84,
   "id": "2acce2d2-1150-4e44-b0c1-52cd766d7626",
   "metadata": {},
   "outputs": [],
   "source": [
    "X_train4, X_test4, y_train4, y_test4 = train_test_split(Xstemdf, y, random_state=4)"
   ]
  },
  {
   "cell_type": "code",
   "execution_count": 85,
   "id": "1b41bf02-1ac8-4f7f-aa09-4a1cd325792d",
   "metadata": {},
   "outputs": [
    {
     "data": {
      "text/plain": [
       "[0.95455, 0.92857, 0.98718, 0.98913, 0.96486]"
      ]
     },
     "execution_count": 85,
     "metadata": {},
     "output_type": "execute_result"
    }
   ],
   "source": [
    "StemMultiNB = MultinomialNB()\n",
    "StemMultiNB.fit(X_train4, y_train4)  \n",
    "StemMultiNB_preds = StemMultiNB.predict(X_test4)  \n",
    "StemMultiNB_scores = Categorical_Scores(y_test4, StemMultiNB_preds)  \n",
    "[round(i, 5) for i in StemMultiNB_scores.values()]"
   ]
  },
  {
   "cell_type": "code",
   "execution_count": 86,
   "id": "34179da7-970b-4db3-8148-7c4309c8c918",
   "metadata": {},
   "outputs": [
    {
     "data": {
      "image/png": "[encoded data removed]",
      "text/plain": [
       "<Figure size 432x288 with 2 Axes>"
      ]
     },
     "metadata": {
      "needs_background": "light"
     },
     "output_type": "display_data"
    }
   ],
   "source": [
    "metrics.ConfusionMatrixDisplay.from_estimator( StemMultiNB, X_test4, y_test4, display_labels=['Keto', 'Vegan']);"
   ]
  },
  {
   "cell_type": "code",
   "execution_count": 87,
   "id": "7aa461d4-8051-4803-a0ce-c54df92c36f9",
   "metadata": {},
   "outputs": [
    {
     "data": {
      "image/png": "[encoded data removed]",
      "text/plain": [
       "<Figure size 432x288 with 1 Axes>"
      ]
     },
     "metadata": {
      "needs_background": "light"
     },
     "output_type": "display_data"
    }
   ],
   "source": [
    "metrics.RocCurveDisplay.from_estimator(StemMultiNB, X_test4, y_test4);"
   ]
  },
  {
   "cell_type": "code",
   "execution_count": null,
   "id": "1f40e236-3b6e-472c-8d11-add52382f125",
   "metadata": {},
   "outputs": [],
   "source": []
  },
  {
   "cell_type": "code",
   "execution_count": 88,
   "id": "241b416d-aa8b-4744-bbfb-808228003aad",
   "metadata": {},
   "outputs": [
    {
     "data": {
      "text/html": [
       "<div>\n",
       "<style scoped>\n",
       "    .dataframe tbody tr th:only-of-type {\n",
       "        vertical-align: middle;\n",
       "    }\n",
       "\n",
       "    .dataframe tbody tr th {\n",
       "        vertical-align: top;\n",
       "    }\n",
       "\n",
       "    .dataframe thead th {\n",
       "        text-align: right;\n",
       "    }\n",
       "</style>\n",
       "<table border=\"1\" class=\"dataframe\">\n",
       "  <thead>\n",
       "    <tr style=\"text-align: right;\">\n",
       "      <th></th>\n",
       "      <th>coef</th>\n",
       "      <th>std</th>\n",
       "    </tr>\n",
       "  </thead>\n",
       "  <tbody>\n",
       "    <tr>\n",
       "      <th>0</th>\n",
       "      <td>-0.071640</td>\n",
       "      <td>0.251932</td>\n",
       "    </tr>\n",
       "    <tr>\n",
       "      <th>01</th>\n",
       "      <td>0.000303</td>\n",
       "      <td>0.245595</td>\n",
       "    </tr>\n",
       "    <tr>\n",
       "      <th>1</th>\n",
       "      <td>0.272198</td>\n",
       "      <td>1.249656</td>\n",
       "    </tr>\n",
       "    <tr>\n",
       "      <th>10</th>\n",
       "      <td>-0.103705</td>\n",
       "      <td>0.314591</td>\n",
       "    </tr>\n",
       "    <tr>\n",
       "      <th>100</th>\n",
       "      <td>-0.108617</td>\n",
       "      <td>0.277524</td>\n",
       "    </tr>\n",
       "    <tr>\n",
       "      <th>...</th>\n",
       "      <td>...</td>\n",
       "      <td>...</td>\n",
       "    </tr>\n",
       "    <tr>\n",
       "      <th>you're</th>\n",
       "      <td>-0.135690</td>\n",
       "      <td>0.510833</td>\n",
       "    </tr>\n",
       "    <tr>\n",
       "      <th>you've</th>\n",
       "      <td>-0.000119</td>\n",
       "      <td>0.162435</td>\n",
       "    </tr>\n",
       "    <tr>\n",
       "      <th>youtube</th>\n",
       "      <td>0.133698</td>\n",
       "      <td>0.194401</td>\n",
       "    </tr>\n",
       "    <tr>\n",
       "      <th>zero</th>\n",
       "      <td>0.476116</td>\n",
       "      <td>0.245595</td>\n",
       "    </tr>\n",
       "    <tr>\n",
       "      <th>zoos</th>\n",
       "      <td>0.000003</td>\n",
       "      <td>0.392046</td>\n",
       "    </tr>\n",
       "  </tbody>\n",
       "</table>\n",
       "<p>1000 rows × 2 columns</p>\n",
       "</div>"
      ],
      "text/plain": [
       "             coef       std\n",
       "0       -0.071640  0.251932\n",
       "01       0.000303  0.245595\n",
       "1        0.272198  1.249656\n",
       "10      -0.103705  0.314591\n",
       "100     -0.108617  0.277524\n",
       "...           ...       ...\n",
       "you're  -0.135690  0.510833\n",
       "you've  -0.000119  0.162435\n",
       "youtube  0.133698  0.194401\n",
       "zero     0.476116  0.245595\n",
       "zoos     0.000003  0.392046\n",
       "\n",
       "[1000 rows x 2 columns]"
      ]
     },
     "execution_count": 88,
     "metadata": {},
     "output_type": "execute_result"
    }
   ],
   "source": [
    "coef_df = pd.DataFrame(lemlog.coef_, columns=[i for i in lemlog.feature_names_in_]).T\n",
    "coef_df['std']=X_train.std()\n",
    "coef_df.columns = ['coef', 'std']\n",
    "coef_df"
   ]
  },
  {
   "cell_type": "code",
   "execution_count": null,
   "id": "0b3c4500-7c5c-4e8d-b007-b89c657b76a5",
   "metadata": {},
   "outputs": [],
   "source": []
  },
  {
   "cell_type": "code",
   "execution_count": 89,
   "id": "64294078-8e1e-4a8d-ad65-a879ea357dd9",
   "metadata": {},
   "outputs": [
    {
     "data": {
      "application/vnd.plotly.v1+json": {
       "config": {
        "plotlyServerURL": "https://plot.ly"
       },
       "data": [
        {
         "alignmentgroup": "True",
         "bingroup": "x",
         "histfunc": "sum",
         "hovertemplate": "index=%{x}<br>sum of coef=%{y}<extra></extra>",
         "legendgroup": "",
         "marker": {
          "color": "#636efa",
          "pattern": {
           "shape": ""
          }
         },
         "name": "",
         "offsetgroup": "",
         "orientation": "v",
         "showlegend": false,
         "type": "histogram",
         "x": [
          "veganism",
          "high",
          "people",
          "vegetarian",
          "tofu",
          "hate",
          "soy",
          "nutritional",
          "product",
          "health",
          "plant",
          "make",
          "protein",
          "friend",
          "stop",
          "restaurant",
          "potato",
          "trying",
          "brother",
          "love"
         ],
         "xaxis": "x",
         "y": [
          -0.78316896735847,
          -0.627401957332426,
          -0.5975589174263535,
          -0.5836875183895095,
          -0.5006548723003436,
          -0.49935488156083185,
          -0.496505141190723,
          -0.4475515029826655,
          -0.4315560612363928,
          -0.4249184530710798,
          -0.4211273270016835,
          -0.4198048242141435,
          -0.41872155470269784,
          -0.39756830626066886,
          -0.3876793267233981,
          -0.3865461327495945,
          -0.38329931764088204,
          -0.3803430546788725,
          -0.3802510915851512,
          -0.3762449037125142
         ],
         "yaxis": "y"
        }
       ],
       "layout": {
        "autosize": true,
        "barmode": "relative",
        "legend": {
         "tracegroupgap": 0
        },
        "template": {
         "data": {
          "bar": [
           {
            "error_x": {
             "color": "#2a3f5f"
            },
            "error_y": {
             "color": "#2a3f5f"
            },
            "marker": {
             "line": {
              "color": "#E5ECF6",
              "width": 0.5
             },
             "pattern": {
              "fillmode": "overlay",
              "size": 10,
              "solidity": 0.2
             }
            },
            "type": "bar"
           }
          ],
          "barpolar": [
           {
            "marker": {
             "line": {
              "color": "#E5ECF6",
              "width": 0.5
             },
             "pattern": {
              "fillmode": "overlay",
              "size": 10,
              "solidity": 0.2
             }
            },
            "type": "barpolar"
           }
          ],
          "carpet": [
           {
            "aaxis": {
             "endlinecolor": "#2a3f5f",
             "gridcolor": "white",
             "linecolor": "white",
             "minorgridcolor": "white",
             "startlinecolor": "#2a3f5f"
            },
            "baxis": {
             "endlinecolor": "#2a3f5f",
             "gridcolor": "white",
             "linecolor": "white",
             "minorgridcolor": "white",
             "startlinecolor": "#2a3f5f"
            },
            "type": "carpet"
           }
          ],
          "choropleth": [
           {
            "colorbar": {
             "outlinewidth": 0,
             "ticks": ""
            },
            "type": "choropleth"
           }
          ],
          "contour": [
           {
            "colorbar": {
             "outlinewidth": 0,
             "ticks": ""
            },
            "colorscale": [
             [
              0,
              "#0d0887"
             ],
             [
              0.1111111111111111,
              "#46039f"
             ],
             [
              0.2222222222222222,
              "#7201a8"
             ],
             [
              0.3333333333333333,
              "#9c179e"
             ],
             [
              0.4444444444444444,
              "#bd3786"
             ],
             [
              0.5555555555555556,
              "#d8576b"
             ],
             [
              0.6666666666666666,
              "#ed7953"
             ],
             [
              0.7777777777777778,
              "#fb9f3a"
             ],
             [
              0.8888888888888888,
              "#fdca26"
             ],
             [
              1,
              "#f0f921"
             ]
            ],
            "type": "contour"
           }
          ],
          "contourcarpet": [
           {
            "colorbar": {
             "outlinewidth": 0,
             "ticks": ""
            },
            "type": "contourcarpet"
           }
          ],
          "heatmap": [
           {
            "colorbar": {
             "outlinewidth": 0,
             "ticks": ""
            },
            "colorscale": [
             [
              0,
              "#0d0887"
             ],
             [
              0.1111111111111111,
              "#46039f"
             ],
             [
              0.2222222222222222,
              "#7201a8"
             ],
             [
              0.3333333333333333,
              "#9c179e"
             ],
             [
              0.4444444444444444,
              "#bd3786"
             ],
             [
              0.5555555555555556,
              "#d8576b"
             ],
             [
              0.6666666666666666,
              "#ed7953"
             ],
             [
              0.7777777777777778,
              "#fb9f3a"
             ],
             [
              0.8888888888888888,
              "#fdca26"
             ],
             [
              1,
              "#f0f921"
             ]
            ],
            "type": "heatmap"
           }
          ],
          "heatmapgl": [
           {
            "colorbar": {
             "outlinewidth": 0,
             "ticks": ""
            },
            "colorscale": [
             [
              0,
              "#0d0887"
             ],
             [
              0.1111111111111111,
              "#46039f"
             ],
             [
              0.2222222222222222,
              "#7201a8"
             ],
             [
              0.3333333333333333,
              "#9c179e"
             ],
             [
              0.4444444444444444,
              "#bd3786"
             ],
             [
              0.5555555555555556,
              "#d8576b"
             ],
             [
              0.6666666666666666,
              "#ed7953"
             ],
             [
              0.7777777777777778,
              "#fb9f3a"
             ],
             [
              0.8888888888888888,
              "#fdca26"
             ],
             [
              1,
              "#f0f921"
             ]
            ],
            "type": "heatmapgl"
           }
          ],
          "histogram": [
           {
            "marker": {
             "pattern": {
              "fillmode": "overlay",
              "size": 10,
              "solidity": 0.2
             }
            },
            "type": "histogram"
           }
          ],
          "histogram2d": [
           {
            "colorbar": {
             "outlinewidth": 0,
             "ticks": ""
            },
            "colorscale": [
             [
              0,
              "#0d0887"
             ],
             [
              0.1111111111111111,
              "#46039f"
             ],
             [
              0.2222222222222222,
              "#7201a8"
             ],
             [
              0.3333333333333333,
              "#9c179e"
             ],
             [
              0.4444444444444444,
              "#bd3786"
             ],
             [
              0.5555555555555556,
              "#d8576b"
             ],
             [
              0.6666666666666666,
              "#ed7953"
             ],
             [
              0.7777777777777778,
              "#fb9f3a"
             ],
             [
              0.8888888888888888,
              "#fdca26"
             ],
             [
              1,
              "#f0f921"
             ]
            ],
            "type": "histogram2d"
           }
          ],
          "histogram2dcontour": [
           {
            "colorbar": {
             "outlinewidth": 0,
             "ticks": ""
            },
            "colorscale": [
             [
              0,
              "#0d0887"
             ],
             [
              0.1111111111111111,
              "#46039f"
             ],
             [
              0.2222222222222222,
              "#7201a8"
             ],
             [
              0.3333333333333333,
              "#9c179e"
             ],
             [
              0.4444444444444444,
              "#bd3786"
             ],
             [
              0.5555555555555556,
              "#d8576b"
             ],
             [
              0.6666666666666666,
              "#ed7953"
             ],
             [
              0.7777777777777778,
              "#fb9f3a"
             ],
             [
              0.8888888888888888,
              "#fdca26"
             ],
             [
              1,
              "#f0f921"
             ]
            ],
            "type": "histogram2dcontour"
           }
          ],
          "mesh3d": [
           {
            "colorbar": {
             "outlinewidth": 0,
             "ticks": ""
            },
            "type": "mesh3d"
           }
          ],
          "parcoords": [
           {
            "line": {
             "colorbar": {
              "outlinewidth": 0,
              "ticks": ""
             }
            },
            "type": "parcoords"
           }
          ],
          "pie": [
           {
            "automargin": true,
            "type": "pie"
           }
          ],
          "scatter": [
           {
            "marker": {
             "colorbar": {
              "outlinewidth": 0,
              "ticks": ""
             }
            },
            "type": "scatter"
           }
          ],
          "scatter3d": [
           {
            "line": {
             "colorbar": {
              "outlinewidth": 0,
              "ticks": ""
             }
            },
            "marker": {
             "colorbar": {
              "outlinewidth": 0,
              "ticks": ""
             }
            },
            "type": "scatter3d"
           }
          ],
          "scattercarpet": [
           {
            "marker": {
             "colorbar": {
              "outlinewidth": 0,
              "ticks": ""
             }
            },
            "type": "scattercarpet"
           }
          ],
          "scattergeo": [
           {
            "marker": {
             "colorbar": {
              "outlinewidth": 0,
              "ticks": ""
             }
            },
            "type": "scattergeo"
           }
          ],
          "scattergl": [
           {
            "marker": {
             "colorbar": {
              "outlinewidth": 0,
              "ticks": ""
             }
            },
            "type": "scattergl"
           }
          ],
          "scattermapbox": [
           {
            "marker": {
             "colorbar": {
              "outlinewidth": 0,
              "ticks": ""
             }
            },
            "type": "scattermapbox"
           }
          ],
          "scatterpolar": [
           {
            "marker": {
             "colorbar": {
              "outlinewidth": 0,
              "ticks": ""
             }
            },
            "type": "scatterpolar"
           }
          ],
          "scatterpolargl": [
           {
            "marker": {
             "colorbar": {
              "outlinewidth": 0,
              "ticks": ""
             }
            },
            "type": "scatterpolargl"
           }
          ],
          "scatterternary": [
           {
            "marker": {
             "colorbar": {
              "outlinewidth": 0,
              "ticks": ""
             }
            },
            "type": "scatterternary"
           }
          ],
          "surface": [
           {
            "colorbar": {
             "outlinewidth": 0,
             "ticks": ""
            },
            "colorscale": [
             [
              0,
              "#0d0887"
             ],
             [
              0.1111111111111111,
              "#46039f"
             ],
             [
              0.2222222222222222,
              "#7201a8"
             ],
             [
              0.3333333333333333,
              "#9c179e"
             ],
             [
              0.4444444444444444,
              "#bd3786"
             ],
             [
              0.5555555555555556,
              "#d8576b"
             ],
             [
              0.6666666666666666,
              "#ed7953"
             ],
             [
              0.7777777777777778,
              "#fb9f3a"
             ],
             [
              0.8888888888888888,
              "#fdca26"
             ],
             [
              1,
              "#f0f921"
             ]
            ],
            "type": "surface"
           }
          ],
          "table": [
           {
            "cells": {
             "fill": {
              "color": "#EBF0F8"
             },
             "line": {
              "color": "white"
             }
            },
            "header": {
             "fill": {
              "color": "#C8D4E3"
             },
             "line": {
              "color": "white"
             }
            },
            "type": "table"
           }
          ]
         },
         "layout": {
          "annotationdefaults": {
           "arrowcolor": "#2a3f5f",
           "arrowhead": 0,
           "arrowwidth": 1
          },
          "autotypenumbers": "strict",
          "coloraxis": {
           "colorbar": {
            "outlinewidth": 0,
            "ticks": ""
           }
          },
          "colorscale": {
           "diverging": [
            [
             0,
             "#8e0152"
            ],
            [
             0.1,
             "#c51b7d"
            ],
            [
             0.2,
             "#de77ae"
            ],
            [
             0.3,
             "#f1b6da"
            ],
            [
             0.4,
             "#fde0ef"
            ],
            [
             0.5,
             "#f7f7f7"
            ],
            [
             0.6,
             "#e6f5d0"
            ],
            [
             0.7,
             "#b8e186"
            ],
            [
             0.8,
             "#7fbc41"
            ],
            [
             0.9,
             "#4d9221"
            ],
            [
             1,
             "#276419"
            ]
           ],
           "sequential": [
            [
             0,
             "#0d0887"
            ],
            [
             0.1111111111111111,
             "#46039f"
            ],
            [
             0.2222222222222222,
             "#7201a8"
            ],
            [
             0.3333333333333333,
             "#9c179e"
            ],
            [
             0.4444444444444444,
             "#bd3786"
            ],
            [
             0.5555555555555556,
             "#d8576b"
            ],
            [
             0.6666666666666666,
             "#ed7953"
            ],
            [
             0.7777777777777778,
             "#fb9f3a"
            ],
            [
             0.8888888888888888,
             "#fdca26"
            ],
            [
             1,
             "#f0f921"
            ]
           ],
           "sequentialminus": [
            [
             0,
             "#0d0887"
            ],
            [
             0.1111111111111111,
             "#46039f"
            ],
            [
             0.2222222222222222,
             "#7201a8"
            ],
            [
             0.3333333333333333,
             "#9c179e"
            ],
            [
             0.4444444444444444,
             "#bd3786"
            ],
            [
             0.5555555555555556,
             "#d8576b"
            ],
            [
             0.6666666666666666,
             "#ed7953"
            ],
            [
             0.7777777777777778,
             "#fb9f3a"
            ],
            [
             0.8888888888888888,
             "#fdca26"
            ],
            [
             1,
             "#f0f921"
            ]
           ]
          },
          "colorway": [
           "#636efa",
           "#EF553B",
           "#00cc96",
           "#ab63fa",
           "#FFA15A",
           "#19d3f3",
           "#FF6692",
           "#B6E880",
           "#FF97FF",
           "#FECB52"
          ],
          "font": {
           "color": "#2a3f5f"
          },
          "geo": {
           "bgcolor": "white",
           "lakecolor": "white",
           "landcolor": "#E5ECF6",
           "showlakes": true,
           "showland": true,
           "subunitcolor": "white"
          },
          "hoverlabel": {
           "align": "left"
          },
          "hovermode": "closest",
          "mapbox": {
           "style": "light"
          },
          "paper_bgcolor": "white",
          "plot_bgcolor": "#E5ECF6",
          "polar": {
           "angularaxis": {
            "gridcolor": "white",
            "linecolor": "white",
            "ticks": ""
           },
           "bgcolor": "#E5ECF6",
           "radialaxis": {
            "gridcolor": "white",
            "linecolor": "white",
            "ticks": ""
           }
          },
          "scene": {
           "xaxis": {
            "backgroundcolor": "#E5ECF6",
            "gridcolor": "white",
            "gridwidth": 2,
            "linecolor": "white",
            "showbackground": true,
            "ticks": "",
            "zerolinecolor": "white"
           },
           "yaxis": {
            "backgroundcolor": "#E5ECF6",
            "gridcolor": "white",
            "gridwidth": 2,
            "linecolor": "white",
            "showbackground": true,
            "ticks": "",
            "zerolinecolor": "white"
           },
           "zaxis": {
            "backgroundcolor": "#E5ECF6",
            "gridcolor": "white",
            "gridwidth": 2,
            "linecolor": "white",
            "showbackground": true,
            "ticks": "",
            "zerolinecolor": "white"
           }
          },
          "shapedefaults": {
           "line": {
            "color": "#2a3f5f"
           }
          },
          "ternary": {
           "aaxis": {
            "gridcolor": "white",
            "linecolor": "white",
            "ticks": ""
           },
           "baxis": {
            "gridcolor": "white",
            "linecolor": "white",
            "ticks": ""
           },
           "bgcolor": "#E5ECF6",
           "caxis": {
            "gridcolor": "white",
            "linecolor": "white",
            "ticks": ""
           }
          },
          "title": {
           "x": 0.05
          },
          "xaxis": {
           "automargin": true,
           "gridcolor": "white",
           "linecolor": "white",
           "ticks": "",
           "title": {
            "standoff": 15
           },
           "zerolinecolor": "white",
           "zerolinewidth": 2
          },
          "yaxis": {
           "automargin": true,
           "gridcolor": "white",
           "linecolor": "white",
           "ticks": "",
           "title": {
            "standoff": 15
           },
           "zerolinecolor": "white",
           "zerolinewidth": 2
          }
         }
        },
        "title": {
         "text": "Top Vegan Words & Coefficients"
        },
        "xaxis": {
         "anchor": "y",
         "autorange": true,
         "domain": [
          0,
          1
         ],
         "range": [
          -0.5,
          19.5
         ],
         "title": {
          "text": "index"
         },
         "type": "category"
        },
        "yaxis": {
         "anchor": "x",
         "autorange": true,
         "domain": [
          0,
          1
         ],
         "range": [
          -0.8243883866931263,
          0
         ],
         "title": {
          "text": "sum of coef"
         },
         "type": "linear"
        }
       }
      },
      "image/png": "[encoded data removed]",
      "text/html": [
       "<div>                            <div id=\"b9efccc1-4a90-49ce-9684-8026bfc1b256\" class=\"plotly-graph-div\" style=\"height:525px; width:100%;\"></div>            <script type=\"text/javascript\">                require([\"plotly\"], function(Plotly) {                    window.PLOTLYENV=window.PLOTLYENV || {};                                    if (document.getElementById(\"b9efccc1-4a90-49ce-9684-8026bfc1b256\")) {                    Plotly.newPlot(                        \"b9efccc1-4a90-49ce-9684-8026bfc1b256\",                        [{\"alignmentgroup\":\"True\",\"bingroup\":\"x\",\"histfunc\":\"sum\",\"hovertemplate\":\"index=%{x}<br>sum of coef=%{y}<extra></extra>\",\"legendgroup\":\"\",\"marker\":{\"color\":\"#636efa\",\"pattern\":{\"shape\":\"\"}},\"name\":\"\",\"offsetgroup\":\"\",\"orientation\":\"v\",\"showlegend\":false,\"type\":\"histogram\",\"x\":[\"veganism\",\"high\",\"people\",\"vegetarian\",\"tofu\",\"hate\",\"soy\",\"nutritional\",\"product\",\"health\",\"plant\",\"make\",\"protein\",\"friend\",\"stop\",\"restaurant\",\"potato\",\"trying\",\"brother\",\"love\"],\"xaxis\":\"x\",\"y\":[-0.78316896735847,-0.627401957332426,-0.5975589174263535,-0.5836875183895095,-0.5006548723003436,-0.49935488156083185,-0.496505141190723,-0.4475515029826655,-0.4315560612363928,-0.4249184530710798,-0.4211273270016835,-0.4198048242141435,-0.41872155470269784,-0.39756830626066886,-0.3876793267233981,-0.3865461327495945,-0.38329931764088204,-0.3803430546788725,-0.3802510915851512,-0.3762449037125142],\"yaxis\":\"y\"}],                        {\"barmode\":\"relative\",\"legend\":{\"tracegroupgap\":0},\"template\":{\"data\":{\"bar\":[{\"error_x\":{\"color\":\"#2a3f5f\"},\"error_y\":{\"color\":\"#2a3f5f\"},\"marker\":{\"line\":{\"color\":\"#E5ECF6\",\"width\":0.5},\"pattern\":{\"fillmode\":\"overlay\",\"size\":10,\"solidity\":0.2}},\"type\":\"bar\"}],\"barpolar\":[{\"marker\":{\"line\":{\"color\":\"#E5ECF6\",\"width\":0.5},\"pattern\":{\"fillmode\":\"overlay\",\"size\":10,\"solidity\":0.2}},\"type\":\"barpolar\"}],\"carpet\":[{\"aaxis\":{\"endlinecolor\":\"#2a3f5f\",\"gridcolor\":\"white\",\"linecolor\":\"white\",\"minorgridcolor\":\"white\",\"startlinecolor\":\"#2a3f5f\"},\"baxis\":{\"endlinecolor\":\"#2a3f5f\",\"gridcolor\":\"white\",\"linecolor\":\"white\",\"minorgridcolor\":\"white\",\"startlinecolor\":\"#2a3f5f\"},\"type\":\"carpet\"}],\"choropleth\":[{\"colorbar\":{\"outlinewidth\":0,\"ticks\":\"\"},\"type\":\"choropleth\"}],\"contour\":[{\"colorbar\":{\"outlinewidth\":0,\"ticks\":\"\"},\"colorscale\":[[0.0,\"#0d0887\"],[0.1111111111111111,\"#46039f\"],[0.2222222222222222,\"#7201a8\"],[0.3333333333333333,\"#9c179e\"],[0.4444444444444444,\"#bd3786\"],[0.5555555555555556,\"#d8576b\"],[0.6666666666666666,\"#ed7953\"],[0.7777777777777778,\"#fb9f3a\"],[0.8888888888888888,\"#fdca26\"],[1.0,\"#f0f921\"]],\"type\":\"contour\"}],\"contourcarpet\":[{\"colorbar\":{\"outlinewidth\":0,\"ticks\":\"\"},\"type\":\"contourcarpet\"}],\"heatmap\":[{\"colorbar\":{\"outlinewidth\":0,\"ticks\":\"\"},\"colorscale\":[[0.0,\"#0d0887\"],[0.1111111111111111,\"#46039f\"],[0.2222222222222222,\"#7201a8\"],[0.3333333333333333,\"#9c179e\"],[0.4444444444444444,\"#bd3786\"],[0.5555555555555556,\"#d8576b\"],[0.6666666666666666,\"#ed7953\"],[0.7777777777777778,\"#fb9f3a\"],[0.8888888888888888,\"#fdca26\"],[1.0,\"#f0f921\"]],\"type\":\"heatmap\"}],\"heatmapgl\":[{\"colorbar\":{\"outlinewidth\":0,\"ticks\":\"\"},\"colorscale\":[[0.0,\"#0d0887\"],[0.1111111111111111,\"#46039f\"],[0.2222222222222222,\"#7201a8\"],[0.3333333333333333,\"#9c179e\"],[0.4444444444444444,\"#bd3786\"],[0.5555555555555556,\"#d8576b\"],[0.6666666666666666,\"#ed7953\"],[0.7777777777777778,\"#fb9f3a\"],[0.8888888888888888,\"#fdca26\"],[1.0,\"#f0f921\"]],\"type\":\"heatmapgl\"}],\"histogram\":[{\"marker\":{\"pattern\":{\"fillmode\":\"overlay\",\"size\":10,\"solidity\":0.2}},\"type\":\"histogram\"}],\"histogram2d\":[{\"colorbar\":{\"outlinewidth\":0,\"ticks\":\"\"},\"colorscale\":[[0.0,\"#0d0887\"],[0.1111111111111111,\"#46039f\"],[0.2222222222222222,\"#7201a8\"],[0.3333333333333333,\"#9c179e\"],[0.4444444444444444,\"#bd3786\"],[0.5555555555555556,\"#d8576b\"],[0.6666666666666666,\"#ed7953\"],[0.7777777777777778,\"#fb9f3a\"],[0.8888888888888888,\"#fdca26\"],[1.0,\"#f0f921\"]],\"type\":\"histogram2d\"}],\"histogram2dcontour\":[{\"colorbar\":{\"outlinewidth\":0,\"ticks\":\"\"},\"colorscale\":[[0.0,\"#0d0887\"],[0.1111111111111111,\"#46039f\"],[0.2222222222222222,\"#7201a8\"],[0.3333333333333333,\"#9c179e\"],[0.4444444444444444,\"#bd3786\"],[0.5555555555555556,\"#d8576b\"],[0.6666666666666666,\"#ed7953\"],[0.7777777777777778,\"#fb9f3a\"],[0.8888888888888888,\"#fdca26\"],[1.0,\"#f0f921\"]],\"type\":\"histogram2dcontour\"}],\"mesh3d\":[{\"colorbar\":{\"outlinewidth\":0,\"ticks\":\"\"},\"type\":\"mesh3d\"}],\"parcoords\":[{\"line\":{\"colorbar\":{\"outlinewidth\":0,\"ticks\":\"\"}},\"type\":\"parcoords\"}],\"pie\":[{\"automargin\":true,\"type\":\"pie\"}],\"scatter\":[{\"marker\":{\"colorbar\":{\"outlinewidth\":0,\"ticks\":\"\"}},\"type\":\"scatter\"}],\"scatter3d\":[{\"line\":{\"colorbar\":{\"outlinewidth\":0,\"ticks\":\"\"}},\"marker\":{\"colorbar\":{\"outlinewidth\":0,\"ticks\":\"\"}},\"type\":\"scatter3d\"}],\"scattercarpet\":[{\"marker\":{\"colorbar\":{\"outlinewidth\":0,\"ticks\":\"\"}},\"type\":\"scattercarpet\"}],\"scattergeo\":[{\"marker\":{\"colorbar\":{\"outlinewidth\":0,\"ticks\":\"\"}},\"type\":\"scattergeo\"}],\"scattergl\":[{\"marker\":{\"colorbar\":{\"outlinewidth\":0,\"ticks\":\"\"}},\"type\":\"scattergl\"}],\"scattermapbox\":[{\"marker\":{\"colorbar\":{\"outlinewidth\":0,\"ticks\":\"\"}},\"type\":\"scattermapbox\"}],\"scatterpolar\":[{\"marker\":{\"colorbar\":{\"outlinewidth\":0,\"ticks\":\"\"}},\"type\":\"scatterpolar\"}],\"scatterpolargl\":[{\"marker\":{\"colorbar\":{\"outlinewidth\":0,\"ticks\":\"\"}},\"type\":\"scatterpolargl\"}],\"scatterternary\":[{\"marker\":{\"colorbar\":{\"outlinewidth\":0,\"ticks\":\"\"}},\"type\":\"scatterternary\"}],\"surface\":[{\"colorbar\":{\"outlinewidth\":0,\"ticks\":\"\"},\"colorscale\":[[0.0,\"#0d0887\"],[0.1111111111111111,\"#46039f\"],[0.2222222222222222,\"#7201a8\"],[0.3333333333333333,\"#9c179e\"],[0.4444444444444444,\"#bd3786\"],[0.5555555555555556,\"#d8576b\"],[0.6666666666666666,\"#ed7953\"],[0.7777777777777778,\"#fb9f3a\"],[0.8888888888888888,\"#fdca26\"],[1.0,\"#f0f921\"]],\"type\":\"surface\"}],\"table\":[{\"cells\":{\"fill\":{\"color\":\"#EBF0F8\"},\"line\":{\"color\":\"white\"}},\"header\":{\"fill\":{\"color\":\"#C8D4E3\"},\"line\":{\"color\":\"white\"}},\"type\":\"table\"}]},\"layout\":{\"annotationdefaults\":{\"arrowcolor\":\"#2a3f5f\",\"arrowhead\":0,\"arrowwidth\":1},\"autotypenumbers\":\"strict\",\"coloraxis\":{\"colorbar\":{\"outlinewidth\":0,\"ticks\":\"\"}},\"colorscale\":{\"diverging\":[[0,\"#8e0152\"],[0.1,\"#c51b7d\"],[0.2,\"#de77ae\"],[0.3,\"#f1b6da\"],[0.4,\"#fde0ef\"],[0.5,\"#f7f7f7\"],[0.6,\"#e6f5d0\"],[0.7,\"#b8e186\"],[0.8,\"#7fbc41\"],[0.9,\"#4d9221\"],[1,\"#276419\"]],\"sequential\":[[0.0,\"#0d0887\"],[0.1111111111111111,\"#46039f\"],[0.2222222222222222,\"#7201a8\"],[0.3333333333333333,\"#9c179e\"],[0.4444444444444444,\"#bd3786\"],[0.5555555555555556,\"#d8576b\"],[0.6666666666666666,\"#ed7953\"],[0.7777777777777778,\"#fb9f3a\"],[0.8888888888888888,\"#fdca26\"],[1.0,\"#f0f921\"]],\"sequentialminus\":[[0.0,\"#0d0887\"],[0.1111111111111111,\"#46039f\"],[0.2222222222222222,\"#7201a8\"],[0.3333333333333333,\"#9c179e\"],[0.4444444444444444,\"#bd3786\"],[0.5555555555555556,\"#d8576b\"],[0.6666666666666666,\"#ed7953\"],[0.7777777777777778,\"#fb9f3a\"],[0.8888888888888888,\"#fdca26\"],[1.0,\"#f0f921\"]]},\"colorway\":[\"#636efa\",\"#EF553B\",\"#00cc96\",\"#ab63fa\",\"#FFA15A\",\"#19d3f3\",\"#FF6692\",\"#B6E880\",\"#FF97FF\",\"#FECB52\"],\"font\":{\"color\":\"#2a3f5f\"},\"geo\":{\"bgcolor\":\"white\",\"lakecolor\":\"white\",\"landcolor\":\"#E5ECF6\",\"showlakes\":true,\"showland\":true,\"subunitcolor\":\"white\"},\"hoverlabel\":{\"align\":\"left\"},\"hovermode\":\"closest\",\"mapbox\":{\"style\":\"light\"},\"paper_bgcolor\":\"white\",\"plot_bgcolor\":\"#E5ECF6\",\"polar\":{\"angularaxis\":{\"gridcolor\":\"white\",\"linecolor\":\"white\",\"ticks\":\"\"},\"bgcolor\":\"#E5ECF6\",\"radialaxis\":{\"gridcolor\":\"white\",\"linecolor\":\"white\",\"ticks\":\"\"}},\"scene\":{\"xaxis\":{\"backgroundcolor\":\"#E5ECF6\",\"gridcolor\":\"white\",\"gridwidth\":2,\"linecolor\":\"white\",\"showbackground\":true,\"ticks\":\"\",\"zerolinecolor\":\"white\"},\"yaxis\":{\"backgroundcolor\":\"#E5ECF6\",\"gridcolor\":\"white\",\"gridwidth\":2,\"linecolor\":\"white\",\"showbackground\":true,\"ticks\":\"\",\"zerolinecolor\":\"white\"},\"zaxis\":{\"backgroundcolor\":\"#E5ECF6\",\"gridcolor\":\"white\",\"gridwidth\":2,\"linecolor\":\"white\",\"showbackground\":true,\"ticks\":\"\",\"zerolinecolor\":\"white\"}},\"shapedefaults\":{\"line\":{\"color\":\"#2a3f5f\"}},\"ternary\":{\"aaxis\":{\"gridcolor\":\"white\",\"linecolor\":\"white\",\"ticks\":\"\"},\"baxis\":{\"gridcolor\":\"white\",\"linecolor\":\"white\",\"ticks\":\"\"},\"bgcolor\":\"#E5ECF6\",\"caxis\":{\"gridcolor\":\"white\",\"linecolor\":\"white\",\"ticks\":\"\"}},\"title\":{\"x\":0.05},\"xaxis\":{\"automargin\":true,\"gridcolor\":\"white\",\"linecolor\":\"white\",\"ticks\":\"\",\"title\":{\"standoff\":15},\"zerolinecolor\":\"white\",\"zerolinewidth\":2},\"yaxis\":{\"automargin\":true,\"gridcolor\":\"white\",\"linecolor\":\"white\",\"ticks\":\"\",\"title\":{\"standoff\":15},\"zerolinecolor\":\"white\",\"zerolinewidth\":2}}},\"title\":{\"text\":\"Top Vegan Words & Coefficients\"},\"xaxis\":{\"anchor\":\"y\",\"domain\":[0.0,1.0],\"title\":{\"text\":\"index\"}},\"yaxis\":{\"anchor\":\"x\",\"domain\":[0.0,1.0],\"title\":{\"text\":\"sum of coef\"}}},                        {\"responsive\": true}                    ).then(function(){\n",
       "                            \n",
       "var gd = document.getElementById('b9efccc1-4a90-49ce-9684-8026bfc1b256');\n",
       "var x = new MutationObserver(function (mutations, observer) {{\n",
       "        var display = window.getComputedStyle(gd).display;\n",
       "        if (!display || display === 'none') {{\n",
       "            console.log([gd, 'removed!']);\n",
       "            Plotly.purge(gd);\n",
       "            observer.disconnect();\n",
       "        }}\n",
       "}});\n",
       "\n",
       "// Listen for the removal of the full notebook cells\n",
       "var notebookContainer = gd.closest('#notebook-container');\n",
       "if (notebookContainer) {{\n",
       "    x.observe(notebookContainer, {childList: true});\n",
       "}}\n",
       "\n",
       "// Listen for the clearing of the current output cell\n",
       "var outputEl = gd.closest('.output');\n",
       "if (outputEl) {{\n",
       "    x.observe(outputEl, {childList: true});\n",
       "}}\n",
       "\n",
       "                        })                };                });            </script>        </div>"
      ]
     },
     "metadata": {},
     "output_type": "display_data"
    }
   ],
   "source": [
    "topvegan = coef_df.loc[coef_df['coef'].sort_values()[2:22].index]\n",
    "topvegan\n",
    "px.histogram(data_frame=topvegan, x=topvegan.index, y='coef', title='Top Vegan Words & Coefficients')"
   ]
  },
  {
   "cell_type": "code",
   "execution_count": 90,
   "id": "d0ef6b65-eeb4-4259-9df5-afb305b5597b",
   "metadata": {},
   "outputs": [
    {
     "data": {
      "application/vnd.plotly.v1+json": {
       "config": {
        "plotlyServerURL": "https://plot.ly"
       },
       "data": [
        {
         "alignmentgroup": "True",
         "bingroup": "x",
         "histfunc": "sum",
         "hovertemplate": "index=%{x}<br>sum of coef=%{y}<extra></extra>",
         "legendgroup": "",
         "marker": {
          "color": "#636efa",
          "pattern": {
           "shape": ""
          }
         },
         "name": "",
         "offsetgroup": "",
         "orientation": "v",
         "showlegend": false,
         "type": "histogram",
         "x": [
          "green",
          "weight",
          "looking",
          "nye",
          "night",
          "article",
          "zero",
          "used",
          "https",
          "lost",
          "glucose",
          "result",
          "water",
          "test",
          "body",
          "ketosis",
          "low",
          "day",
          "specifically",
          "carbs"
         ],
         "xaxis": "x",
         "y": [
          0.42939029495783276,
          0.43105329539112186,
          0.43743310351623527,
          0.4409873127635037,
          0.45862632886765475,
          0.4636188444665913,
          0.4761155733203831,
          0.4867943993153663,
          0.4880909504553603,
          0.5036202523922126,
          0.513091213006504,
          0.5148595660447791,
          0.5515718965277753,
          0.5622197886900271,
          0.5897719808859736,
          0.6109837390844265,
          0.6223398734213131,
          0.6223411078111992,
          0.6413175825070694,
          0.7438611279092869
         ],
         "yaxis": "y"
        }
       ],
       "layout": {
        "autosize": true,
        "barmode": "relative",
        "legend": {
         "tracegroupgap": 0
        },
        "template": {
         "data": {
          "bar": [
           {
            "error_x": {
             "color": "#2a3f5f"
            },
            "error_y": {
             "color": "#2a3f5f"
            },
            "marker": {
             "line": {
              "color": "#E5ECF6",
              "width": 0.5
             },
             "pattern": {
              "fillmode": "overlay",
              "size": 10,
              "solidity": 0.2
             }
            },
            "type": "bar"
           }
          ],
          "barpolar": [
           {
            "marker": {
             "line": {
              "color": "#E5ECF6",
              "width": 0.5
             },
             "pattern": {
              "fillmode": "overlay",
              "size": 10,
              "solidity": 0.2
             }
            },
            "type": "barpolar"
           }
          ],
          "carpet": [
           {
            "aaxis": {
             "endlinecolor": "#2a3f5f",
             "gridcolor": "white",
             "linecolor": "white",
             "minorgridcolor": "white",
             "startlinecolor": "#2a3f5f"
            },
            "baxis": {
             "endlinecolor": "#2a3f5f",
             "gridcolor": "white",
             "linecolor": "white",
             "minorgridcolor": "white",
             "startlinecolor": "#2a3f5f"
            },
            "type": "carpet"
           }
          ],
          "choropleth": [
           {
            "colorbar": {
             "outlinewidth": 0,
             "ticks": ""
            },
            "type": "choropleth"
           }
          ],
          "contour": [
           {
            "colorbar": {
             "outlinewidth": 0,
             "ticks": ""
            },
            "colorscale": [
             [
              0,
              "#0d0887"
             ],
             [
              0.1111111111111111,
              "#46039f"
             ],
             [
              0.2222222222222222,
              "#7201a8"
             ],
             [
              0.3333333333333333,
              "#9c179e"
             ],
             [
              0.4444444444444444,
              "#bd3786"
             ],
             [
              0.5555555555555556,
              "#d8576b"
             ],
             [
              0.6666666666666666,
              "#ed7953"
             ],
             [
              0.7777777777777778,
              "#fb9f3a"
             ],
             [
              0.8888888888888888,
              "#fdca26"
             ],
             [
              1,
              "#f0f921"
             ]
            ],
            "type": "contour"
           }
          ],
          "contourcarpet": [
           {
            "colorbar": {
             "outlinewidth": 0,
             "ticks": ""
            },
            "type": "contourcarpet"
           }
          ],
          "heatmap": [
           {
            "colorbar": {
             "outlinewidth": 0,
             "ticks": ""
            },
            "colorscale": [
             [
              0,
              "#0d0887"
             ],
             [
              0.1111111111111111,
              "#46039f"
             ],
             [
              0.2222222222222222,
              "#7201a8"
             ],
             [
              0.3333333333333333,
              "#9c179e"
             ],
             [
              0.4444444444444444,
              "#bd3786"
             ],
             [
              0.5555555555555556,
              "#d8576b"
             ],
             [
              0.6666666666666666,
              "#ed7953"
             ],
             [
              0.7777777777777778,
              "#fb9f3a"
             ],
             [
              0.8888888888888888,
              "#fdca26"
             ],
             [
              1,
              "#f0f921"
             ]
            ],
            "type": "heatmap"
           }
          ],
          "heatmapgl": [
           {
            "colorbar": {
             "outlinewidth": 0,
             "ticks": ""
            },
            "colorscale": [
             [
              0,
              "#0d0887"
             ],
             [
              0.1111111111111111,
              "#46039f"
             ],
             [
              0.2222222222222222,
              "#7201a8"
             ],
             [
              0.3333333333333333,
              "#9c179e"
             ],
             [
              0.4444444444444444,
              "#bd3786"
             ],
             [
              0.5555555555555556,
              "#d8576b"
             ],
             [
              0.6666666666666666,
              "#ed7953"
             ],
             [
              0.7777777777777778,
              "#fb9f3a"
             ],
             [
              0.8888888888888888,
              "#fdca26"
             ],
             [
              1,
              "#f0f921"
             ]
            ],
            "type": "heatmapgl"
           }
          ],
          "histogram": [
           {
            "marker": {
             "pattern": {
              "fillmode": "overlay",
              "size": 10,
              "solidity": 0.2
             }
            },
            "type": "histogram"
           }
          ],
          "histogram2d": [
           {
            "colorbar": {
             "outlinewidth": 0,
             "ticks": ""
            },
            "colorscale": [
             [
              0,
              "#0d0887"
             ],
             [
              0.1111111111111111,
              "#46039f"
             ],
             [
              0.2222222222222222,
              "#7201a8"
             ],
             [
              0.3333333333333333,
              "#9c179e"
             ],
             [
              0.4444444444444444,
              "#bd3786"
             ],
             [
              0.5555555555555556,
              "#d8576b"
             ],
             [
              0.6666666666666666,
              "#ed7953"
             ],
             [
              0.7777777777777778,
              "#fb9f3a"
             ],
             [
              0.8888888888888888,
              "#fdca26"
             ],
             [
              1,
              "#f0f921"
             ]
            ],
            "type": "histogram2d"
           }
          ],
          "histogram2dcontour": [
           {
            "colorbar": {
             "outlinewidth": 0,
             "ticks": ""
            },
            "colorscale": [
             [
              0,
              "#0d0887"
             ],
             [
              0.1111111111111111,
              "#46039f"
             ],
             [
              0.2222222222222222,
              "#7201a8"
             ],
             [
              0.3333333333333333,
              "#9c179e"
             ],
             [
              0.4444444444444444,
              "#bd3786"
             ],
             [
              0.5555555555555556,
              "#d8576b"
             ],
             [
              0.6666666666666666,
              "#ed7953"
             ],
             [
              0.7777777777777778,
              "#fb9f3a"
             ],
             [
              0.8888888888888888,
              "#fdca26"
             ],
             [
              1,
              "#f0f921"
             ]
            ],
            "type": "histogram2dcontour"
           }
          ],
          "mesh3d": [
           {
            "colorbar": {
             "outlinewidth": 0,
             "ticks": ""
            },
            "type": "mesh3d"
           }
          ],
          "parcoords": [
           {
            "line": {
             "colorbar": {
              "outlinewidth": 0,
              "ticks": ""
             }
            },
            "type": "parcoords"
           }
          ],
          "pie": [
           {
            "automargin": true,
            "type": "pie"
           }
          ],
          "scatter": [
           {
            "marker": {
             "colorbar": {
              "outlinewidth": 0,
              "ticks": ""
             }
            },
            "type": "scatter"
           }
          ],
          "scatter3d": [
           {
            "line": {
             "colorbar": {
              "outlinewidth": 0,
              "ticks": ""
             }
            },
            "marker": {
             "colorbar": {
              "outlinewidth": 0,
              "ticks": ""
             }
            },
            "type": "scatter3d"
           }
          ],
          "scattercarpet": [
           {
            "marker": {
             "colorbar": {
              "outlinewidth": 0,
              "ticks": ""
             }
            },
            "type": "scattercarpet"
           }
          ],
          "scattergeo": [
           {
            "marker": {
             "colorbar": {
              "outlinewidth": 0,
              "ticks": ""
             }
            },
            "type": "scattergeo"
           }
          ],
          "scattergl": [
           {
            "marker": {
             "colorbar": {
              "outlinewidth": 0,
              "ticks": ""
             }
            },
            "type": "scattergl"
           }
          ],
          "scattermapbox": [
           {
            "marker": {
             "colorbar": {
              "outlinewidth": 0,
              "ticks": ""
             }
            },
            "type": "scattermapbox"
           }
          ],
          "scatterpolar": [
           {
            "marker": {
             "colorbar": {
              "outlinewidth": 0,
              "ticks": ""
             }
            },
            "type": "scatterpolar"
           }
          ],
          "scatterpolargl": [
           {
            "marker": {
             "colorbar": {
              "outlinewidth": 0,
              "ticks": ""
             }
            },
            "type": "scatterpolargl"
           }
          ],
          "scatterternary": [
           {
            "marker": {
             "colorbar": {
              "outlinewidth": 0,
              "ticks": ""
             }
            },
            "type": "scatterternary"
           }
          ],
          "surface": [
           {
            "colorbar": {
             "outlinewidth": 0,
             "ticks": ""
            },
            "colorscale": [
             [
              0,
              "#0d0887"
             ],
             [
              0.1111111111111111,
              "#46039f"
             ],
             [
              0.2222222222222222,
              "#7201a8"
             ],
             [
              0.3333333333333333,
              "#9c179e"
             ],
             [
              0.4444444444444444,
              "#bd3786"
             ],
             [
              0.5555555555555556,
              "#d8576b"
             ],
             [
              0.6666666666666666,
              "#ed7953"
             ],
             [
              0.7777777777777778,
              "#fb9f3a"
             ],
             [
              0.8888888888888888,
              "#fdca26"
             ],
             [
              1,
              "#f0f921"
             ]
            ],
            "type": "surface"
           }
          ],
          "table": [
           {
            "cells": {
             "fill": {
              "color": "#EBF0F8"
             },
             "line": {
              "color": "white"
             }
            },
            "header": {
             "fill": {
              "color": "#C8D4E3"
             },
             "line": {
              "color": "white"
             }
            },
            "type": "table"
           }
          ]
         },
         "layout": {
          "annotationdefaults": {
           "arrowcolor": "#2a3f5f",
           "arrowhead": 0,
           "arrowwidth": 1
          },
          "autotypenumbers": "strict",
          "coloraxis": {
           "colorbar": {
            "outlinewidth": 0,
            "ticks": ""
           }
          },
          "colorscale": {
           "diverging": [
            [
             0,
             "#8e0152"
            ],
            [
             0.1,
             "#c51b7d"
            ],
            [
             0.2,
             "#de77ae"
            ],
            [
             0.3,
             "#f1b6da"
            ],
            [
             0.4,
             "#fde0ef"
            ],
            [
             0.5,
             "#f7f7f7"
            ],
            [
             0.6,
             "#e6f5d0"
            ],
            [
             0.7,
             "#b8e186"
            ],
            [
             0.8,
             "#7fbc41"
            ],
            [
             0.9,
             "#4d9221"
            ],
            [
             1,
             "#276419"
            ]
           ],
           "sequential": [
            [
             0,
             "#0d0887"
            ],
            [
             0.1111111111111111,
             "#46039f"
            ],
            [
             0.2222222222222222,
             "#7201a8"
            ],
            [
             0.3333333333333333,
             "#9c179e"
            ],
            [
             0.4444444444444444,
             "#bd3786"
            ],
            [
             0.5555555555555556,
             "#d8576b"
            ],
            [
             0.6666666666666666,
             "#ed7953"
            ],
            [
             0.7777777777777778,
             "#fb9f3a"
            ],
            [
             0.8888888888888888,
             "#fdca26"
            ],
            [
             1,
             "#f0f921"
            ]
           ],
           "sequentialminus": [
            [
             0,
             "#0d0887"
            ],
            [
             0.1111111111111111,
             "#46039f"
            ],
            [
             0.2222222222222222,
             "#7201a8"
            ],
            [
             0.3333333333333333,
             "#9c179e"
            ],
            [
             0.4444444444444444,
             "#bd3786"
            ],
            [
             0.5555555555555556,
             "#d8576b"
            ],
            [
             0.6666666666666666,
             "#ed7953"
            ],
            [
             0.7777777777777778,
             "#fb9f3a"
            ],
            [
             0.8888888888888888,
             "#fdca26"
            ],
            [
             1,
             "#f0f921"
            ]
           ]
          },
          "colorway": [
           "#636efa",
           "#EF553B",
           "#00cc96",
           "#ab63fa",
           "#FFA15A",
           "#19d3f3",
           "#FF6692",
           "#B6E880",
           "#FF97FF",
           "#FECB52"
          ],
          "font": {
           "color": "#2a3f5f"
          },
          "geo": {
           "bgcolor": "white",
           "lakecolor": "white",
           "landcolor": "#E5ECF6",
           "showlakes": true,
           "showland": true,
           "subunitcolor": "white"
          },
          "hoverlabel": {
           "align": "left"
          },
          "hovermode": "closest",
          "mapbox": {
           "style": "light"
          },
          "paper_bgcolor": "white",
          "plot_bgcolor": "#E5ECF6",
          "polar": {
           "angularaxis": {
            "gridcolor": "white",
            "linecolor": "white",
            "ticks": ""
           },
           "bgcolor": "#E5ECF6",
           "radialaxis": {
            "gridcolor": "white",
            "linecolor": "white",
            "ticks": ""
           }
          },
          "scene": {
           "xaxis": {
            "backgroundcolor": "#E5ECF6",
            "gridcolor": "white",
            "gridwidth": 2,
            "linecolor": "white",
            "showbackground": true,
            "ticks": "",
            "zerolinecolor": "white"
           },
           "yaxis": {
            "backgroundcolor": "#E5ECF6",
            "gridcolor": "white",
            "gridwidth": 2,
            "linecolor": "white",
            "showbackground": true,
            "ticks": "",
            "zerolinecolor": "white"
           },
           "zaxis": {
            "backgroundcolor": "#E5ECF6",
            "gridcolor": "white",
            "gridwidth": 2,
            "linecolor": "white",
            "showbackground": true,
            "ticks": "",
            "zerolinecolor": "white"
           }
          },
          "shapedefaults": {
           "line": {
            "color": "#2a3f5f"
           }
          },
          "ternary": {
           "aaxis": {
            "gridcolor": "white",
            "linecolor": "white",
            "ticks": ""
           },
           "baxis": {
            "gridcolor": "white",
            "linecolor": "white",
            "ticks": ""
           },
           "bgcolor": "#E5ECF6",
           "caxis": {
            "gridcolor": "white",
            "linecolor": "white",
            "ticks": ""
           }
          },
          "title": {
           "x": 0.05
          },
          "xaxis": {
           "automargin": true,
           "gridcolor": "white",
           "linecolor": "white",
           "ticks": "",
           "title": {
            "standoff": 15
           },
           "zerolinecolor": "white",
           "zerolinewidth": 2
          },
          "yaxis": {
           "automargin": true,
           "gridcolor": "white",
           "linecolor": "white",
           "ticks": "",
           "title": {
            "standoff": 15
           },
           "zerolinecolor": "white",
           "zerolinewidth": 2
          }
         }
        },
        "title": {
         "text": "Top Keto Words & Coefficients"
        },
        "xaxis": {
         "anchor": "y",
         "autorange": true,
         "domain": [
          0,
          1
         ],
         "range": [
          -0.5,
          19.5
         ],
         "title": {
          "text": "index"
         },
         "type": "category"
        },
        "yaxis": {
         "anchor": "x",
         "autorange": true,
         "domain": [
          0,
          1
         ],
         "range": [
          0,
          0.7830117135887231
         ],
         "title": {
          "text": "sum of coef"
         },
         "type": "linear"
        }
       }
      },
      "image/png": "[encoded data removed]",
      "text/html": [
       "<div>                            <div id=\"f2fc3cc6-7557-49ca-8946-9a9b66d11a94\" class=\"plotly-graph-div\" style=\"height:525px; width:100%;\"></div>            <script type=\"text/javascript\">                require([\"plotly\"], function(Plotly) {                    window.PLOTLYENV=window.PLOTLYENV || {};                                    if (document.getElementById(\"f2fc3cc6-7557-49ca-8946-9a9b66d11a94\")) {                    Plotly.newPlot(                        \"f2fc3cc6-7557-49ca-8946-9a9b66d11a94\",                        [{\"alignmentgroup\":\"True\",\"bingroup\":\"x\",\"histfunc\":\"sum\",\"hovertemplate\":\"index=%{x}<br>sum of coef=%{y}<extra></extra>\",\"legendgroup\":\"\",\"marker\":{\"color\":\"#636efa\",\"pattern\":{\"shape\":\"\"}},\"name\":\"\",\"offsetgroup\":\"\",\"orientation\":\"v\",\"showlegend\":false,\"type\":\"histogram\",\"x\":[\"green\",\"weight\",\"looking\",\"nye\",\"night\",\"article\",\"zero\",\"used\",\"https\",\"lost\",\"glucose\",\"result\",\"water\",\"test\",\"body\",\"ketosis\",\"low\",\"day\",\"specifically\",\"carbs\"],\"xaxis\":\"x\",\"y\":[0.42939029495783276,0.43105329539112186,0.43743310351623527,0.4409873127635037,0.45862632886765475,0.4636188444665913,0.4761155733203831,0.4867943993153663,0.4880909504553603,0.5036202523922126,0.513091213006504,0.5148595660447791,0.5515718965277753,0.5622197886900271,0.5897719808859736,0.6109837390844265,0.6223398734213131,0.6223411078111992,0.6413175825070694,0.7438611279092869],\"yaxis\":\"y\"}],                        {\"barmode\":\"relative\",\"legend\":{\"tracegroupgap\":0},\"template\":{\"data\":{\"bar\":[{\"error_x\":{\"color\":\"#2a3f5f\"},\"error_y\":{\"color\":\"#2a3f5f\"},\"marker\":{\"line\":{\"color\":\"#E5ECF6\",\"width\":0.5},\"pattern\":{\"fillmode\":\"overlay\",\"size\":10,\"solidity\":0.2}},\"type\":\"bar\"}],\"barpolar\":[{\"marker\":{\"line\":{\"color\":\"#E5ECF6\",\"width\":0.5},\"pattern\":{\"fillmode\":\"overlay\",\"size\":10,\"solidity\":0.2}},\"type\":\"barpolar\"}],\"carpet\":[{\"aaxis\":{\"endlinecolor\":\"#2a3f5f\",\"gridcolor\":\"white\",\"linecolor\":\"white\",\"minorgridcolor\":\"white\",\"startlinecolor\":\"#2a3f5f\"},\"baxis\":{\"endlinecolor\":\"#2a3f5f\",\"gridcolor\":\"white\",\"linecolor\":\"white\",\"minorgridcolor\":\"white\",\"startlinecolor\":\"#2a3f5f\"},\"type\":\"carpet\"}],\"choropleth\":[{\"colorbar\":{\"outlinewidth\":0,\"ticks\":\"\"},\"type\":\"choropleth\"}],\"contour\":[{\"colorbar\":{\"outlinewidth\":0,\"ticks\":\"\"},\"colorscale\":[[0.0,\"#0d0887\"],[0.1111111111111111,\"#46039f\"],[0.2222222222222222,\"#7201a8\"],[0.3333333333333333,\"#9c179e\"],[0.4444444444444444,\"#bd3786\"],[0.5555555555555556,\"#d8576b\"],[0.6666666666666666,\"#ed7953\"],[0.7777777777777778,\"#fb9f3a\"],[0.8888888888888888,\"#fdca26\"],[1.0,\"#f0f921\"]],\"type\":\"contour\"}],\"contourcarpet\":[{\"colorbar\":{\"outlinewidth\":0,\"ticks\":\"\"},\"type\":\"contourcarpet\"}],\"heatmap\":[{\"colorbar\":{\"outlinewidth\":0,\"ticks\":\"\"},\"colorscale\":[[0.0,\"#0d0887\"],[0.1111111111111111,\"#46039f\"],[0.2222222222222222,\"#7201a8\"],[0.3333333333333333,\"#9c179e\"],[0.4444444444444444,\"#bd3786\"],[0.5555555555555556,\"#d8576b\"],[0.6666666666666666,\"#ed7953\"],[0.7777777777777778,\"#fb9f3a\"],[0.8888888888888888,\"#fdca26\"],[1.0,\"#f0f921\"]],\"type\":\"heatmap\"}],\"heatmapgl\":[{\"colorbar\":{\"outlinewidth\":0,\"ticks\":\"\"},\"colorscale\":[[0.0,\"#0d0887\"],[0.1111111111111111,\"#46039f\"],[0.2222222222222222,\"#7201a8\"],[0.3333333333333333,\"#9c179e\"],[0.4444444444444444,\"#bd3786\"],[0.5555555555555556,\"#d8576b\"],[0.6666666666666666,\"#ed7953\"],[0.7777777777777778,\"#fb9f3a\"],[0.8888888888888888,\"#fdca26\"],[1.0,\"#f0f921\"]],\"type\":\"heatmapgl\"}],\"histogram\":[{\"marker\":{\"pattern\":{\"fillmode\":\"overlay\",\"size\":10,\"solidity\":0.2}},\"type\":\"histogram\"}],\"histogram2d\":[{\"colorbar\":{\"outlinewidth\":0,\"ticks\":\"\"},\"colorscale\":[[0.0,\"#0d0887\"],[0.1111111111111111,\"#46039f\"],[0.2222222222222222,\"#7201a8\"],[0.3333333333333333,\"#9c179e\"],[0.4444444444444444,\"#bd3786\"],[0.5555555555555556,\"#d8576b\"],[0.6666666666666666,\"#ed7953\"],[0.7777777777777778,\"#fb9f3a\"],[0.8888888888888888,\"#fdca26\"],[1.0,\"#f0f921\"]],\"type\":\"histogram2d\"}],\"histogram2dcontour\":[{\"colorbar\":{\"outlinewidth\":0,\"ticks\":\"\"},\"colorscale\":[[0.0,\"#0d0887\"],[0.1111111111111111,\"#46039f\"],[0.2222222222222222,\"#7201a8\"],[0.3333333333333333,\"#9c179e\"],[0.4444444444444444,\"#bd3786\"],[0.5555555555555556,\"#d8576b\"],[0.6666666666666666,\"#ed7953\"],[0.7777777777777778,\"#fb9f3a\"],[0.8888888888888888,\"#fdca26\"],[1.0,\"#f0f921\"]],\"type\":\"histogram2dcontour\"}],\"mesh3d\":[{\"colorbar\":{\"outlinewidth\":0,\"ticks\":\"\"},\"type\":\"mesh3d\"}],\"parcoords\":[{\"line\":{\"colorbar\":{\"outlinewidth\":0,\"ticks\":\"\"}},\"type\":\"parcoords\"}],\"pie\":[{\"automargin\":true,\"type\":\"pie\"}],\"scatter\":[{\"marker\":{\"colorbar\":{\"outlinewidth\":0,\"ticks\":\"\"}},\"type\":\"scatter\"}],\"scatter3d\":[{\"line\":{\"colorbar\":{\"outlinewidth\":0,\"ticks\":\"\"}},\"marker\":{\"colorbar\":{\"outlinewidth\":0,\"ticks\":\"\"}},\"type\":\"scatter3d\"}],\"scattercarpet\":[{\"marker\":{\"colorbar\":{\"outlinewidth\":0,\"ticks\":\"\"}},\"type\":\"scattercarpet\"}],\"scattergeo\":[{\"marker\":{\"colorbar\":{\"outlinewidth\":0,\"ticks\":\"\"}},\"type\":\"scattergeo\"}],\"scattergl\":[{\"marker\":{\"colorbar\":{\"outlinewidth\":0,\"ticks\":\"\"}},\"type\":\"scattergl\"}],\"scattermapbox\":[{\"marker\":{\"colorbar\":{\"outlinewidth\":0,\"ticks\":\"\"}},\"type\":\"scattermapbox\"}],\"scatterpolar\":[{\"marker\":{\"colorbar\":{\"outlinewidth\":0,\"ticks\":\"\"}},\"type\":\"scatterpolar\"}],\"scatterpolargl\":[{\"marker\":{\"colorbar\":{\"outlinewidth\":0,\"ticks\":\"\"}},\"type\":\"scatterpolargl\"}],\"scatterternary\":[{\"marker\":{\"colorbar\":{\"outlinewidth\":0,\"ticks\":\"\"}},\"type\":\"scatterternary\"}],\"surface\":[{\"colorbar\":{\"outlinewidth\":0,\"ticks\":\"\"},\"colorscale\":[[0.0,\"#0d0887\"],[0.1111111111111111,\"#46039f\"],[0.2222222222222222,\"#7201a8\"],[0.3333333333333333,\"#9c179e\"],[0.4444444444444444,\"#bd3786\"],[0.5555555555555556,\"#d8576b\"],[0.6666666666666666,\"#ed7953\"],[0.7777777777777778,\"#fb9f3a\"],[0.8888888888888888,\"#fdca26\"],[1.0,\"#f0f921\"]],\"type\":\"surface\"}],\"table\":[{\"cells\":{\"fill\":{\"color\":\"#EBF0F8\"},\"line\":{\"color\":\"white\"}},\"header\":{\"fill\":{\"color\":\"#C8D4E3\"},\"line\":{\"color\":\"white\"}},\"type\":\"table\"}]},\"layout\":{\"annotationdefaults\":{\"arrowcolor\":\"#2a3f5f\",\"arrowhead\":0,\"arrowwidth\":1},\"autotypenumbers\":\"strict\",\"coloraxis\":{\"colorbar\":{\"outlinewidth\":0,\"ticks\":\"\"}},\"colorscale\":{\"diverging\":[[0,\"#8e0152\"],[0.1,\"#c51b7d\"],[0.2,\"#de77ae\"],[0.3,\"#f1b6da\"],[0.4,\"#fde0ef\"],[0.5,\"#f7f7f7\"],[0.6,\"#e6f5d0\"],[0.7,\"#b8e186\"],[0.8,\"#7fbc41\"],[0.9,\"#4d9221\"],[1,\"#276419\"]],\"sequential\":[[0.0,\"#0d0887\"],[0.1111111111111111,\"#46039f\"],[0.2222222222222222,\"#7201a8\"],[0.3333333333333333,\"#9c179e\"],[0.4444444444444444,\"#bd3786\"],[0.5555555555555556,\"#d8576b\"],[0.6666666666666666,\"#ed7953\"],[0.7777777777777778,\"#fb9f3a\"],[0.8888888888888888,\"#fdca26\"],[1.0,\"#f0f921\"]],\"sequentialminus\":[[0.0,\"#0d0887\"],[0.1111111111111111,\"#46039f\"],[0.2222222222222222,\"#7201a8\"],[0.3333333333333333,\"#9c179e\"],[0.4444444444444444,\"#bd3786\"],[0.5555555555555556,\"#d8576b\"],[0.6666666666666666,\"#ed7953\"],[0.7777777777777778,\"#fb9f3a\"],[0.8888888888888888,\"#fdca26\"],[1.0,\"#f0f921\"]]},\"colorway\":[\"#636efa\",\"#EF553B\",\"#00cc96\",\"#ab63fa\",\"#FFA15A\",\"#19d3f3\",\"#FF6692\",\"#B6E880\",\"#FF97FF\",\"#FECB52\"],\"font\":{\"color\":\"#2a3f5f\"},\"geo\":{\"bgcolor\":\"white\",\"lakecolor\":\"white\",\"landcolor\":\"#E5ECF6\",\"showlakes\":true,\"showland\":true,\"subunitcolor\":\"white\"},\"hoverlabel\":{\"align\":\"left\"},\"hovermode\":\"closest\",\"mapbox\":{\"style\":\"light\"},\"paper_bgcolor\":\"white\",\"plot_bgcolor\":\"#E5ECF6\",\"polar\":{\"angularaxis\":{\"gridcolor\":\"white\",\"linecolor\":\"white\",\"ticks\":\"\"},\"bgcolor\":\"#E5ECF6\",\"radialaxis\":{\"gridcolor\":\"white\",\"linecolor\":\"white\",\"ticks\":\"\"}},\"scene\":{\"xaxis\":{\"backgroundcolor\":\"#E5ECF6\",\"gridcolor\":\"white\",\"gridwidth\":2,\"linecolor\":\"white\",\"showbackground\":true,\"ticks\":\"\",\"zerolinecolor\":\"white\"},\"yaxis\":{\"backgroundcolor\":\"#E5ECF6\",\"gridcolor\":\"white\",\"gridwidth\":2,\"linecolor\":\"white\",\"showbackground\":true,\"ticks\":\"\",\"zerolinecolor\":\"white\"},\"zaxis\":{\"backgroundcolor\":\"#E5ECF6\",\"gridcolor\":\"white\",\"gridwidth\":2,\"linecolor\":\"white\",\"showbackground\":true,\"ticks\":\"\",\"zerolinecolor\":\"white\"}},\"shapedefaults\":{\"line\":{\"color\":\"#2a3f5f\"}},\"ternary\":{\"aaxis\":{\"gridcolor\":\"white\",\"linecolor\":\"white\",\"ticks\":\"\"},\"baxis\":{\"gridcolor\":\"white\",\"linecolor\":\"white\",\"ticks\":\"\"},\"bgcolor\":\"#E5ECF6\",\"caxis\":{\"gridcolor\":\"white\",\"linecolor\":\"white\",\"ticks\":\"\"}},\"title\":{\"x\":0.05},\"xaxis\":{\"automargin\":true,\"gridcolor\":\"white\",\"linecolor\":\"white\",\"ticks\":\"\",\"title\":{\"standoff\":15},\"zerolinecolor\":\"white\",\"zerolinewidth\":2},\"yaxis\":{\"automargin\":true,\"gridcolor\":\"white\",\"linecolor\":\"white\",\"ticks\":\"\",\"title\":{\"standoff\":15},\"zerolinecolor\":\"white\",\"zerolinewidth\":2}}},\"title\":{\"text\":\"Top Keto Words & Coefficients\"},\"xaxis\":{\"anchor\":\"y\",\"domain\":[0.0,1.0],\"title\":{\"text\":\"index\"}},\"yaxis\":{\"anchor\":\"x\",\"domain\":[0.0,1.0],\"title\":{\"text\":\"sum of coef\"}}},                        {\"responsive\": true}                    ).then(function(){\n",
       "                            \n",
       "var gd = document.getElementById('f2fc3cc6-7557-49ca-8946-9a9b66d11a94');\n",
       "var x = new MutationObserver(function (mutations, observer) {{\n",
       "        var display = window.getComputedStyle(gd).display;\n",
       "        if (!display || display === 'none') {{\n",
       "            console.log([gd, 'removed!']);\n",
       "            Plotly.purge(gd);\n",
       "            observer.disconnect();\n",
       "        }}\n",
       "}});\n",
       "\n",
       "// Listen for the removal of the full notebook cells\n",
       "var notebookContainer = gd.closest('#notebook-container');\n",
       "if (notebookContainer) {{\n",
       "    x.observe(notebookContainer, {childList: true});\n",
       "}}\n",
       "\n",
       "// Listen for the clearing of the current output cell\n",
       "var outputEl = gd.closest('.output');\n",
       "if (outputEl) {{\n",
       "    x.observe(outputEl, {childList: true});\n",
       "}}\n",
       "\n",
       "                        })                };                });            </script>        </div>"
      ]
     },
     "metadata": {},
     "output_type": "display_data"
    }
   ],
   "source": [
    "topketo = coef_df.loc[coef_df['coef'].sort_values(ascending=True)[-21:-1].index]\n",
    "px.histogram(data_frame=topketo, x=topketo.index, y='coef', title='Top Keto Words & Coefficients')"
   ]
  },
  {
   "cell_type": "code",
   "execution_count": null,
   "id": "912ee4e7-5df7-4d29-a8af-90d41586d8a4",
   "metadata": {},
   "outputs": [],
   "source": []
  }
 ],
 "metadata": {
  "kernelspec": {
   "display_name": "Python 3",
   "language": "python",
   "name": "python3"
  },
  "language_info": {
   "codemirror_mode": {
    "name": "ipython",
    "version": 3
   },
   "file_extension": ".py",
   "mimetype": "text/x-python",
   "name": "python",
   "nbconvert_exporter": "python",
   "pygments_lexer": "ipython3",
   "version": "3.8.8"
  }
 },
 "nbformat": 4,
 "nbformat_minor": 5
}
